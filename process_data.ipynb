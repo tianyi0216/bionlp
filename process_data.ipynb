{
 "cells": [
  {
   "cell_type": "code",
   "execution_count": 1,
   "metadata": {},
   "outputs": [
    {
     "name": "stderr",
     "output_type": "stream",
     "text": [
      "/Users/tianyixu/anaconda3/lib/python3.11/site-packages/timm/models/layers/__init__.py:48: FutureWarning: Importing from timm.models.layers is deprecated, please import via timm.layers\n",
      "  warnings.warn(f\"Importing from {__name__} is deprecated, please import via timm.layers\", FutureWarning)\n"
     ]
    }
   ],
   "source": [
    "# One run of test to deduplicate the bio_med_research dataset\n",
    "import pandas as pd\n",
    "import os\n",
    "from transformers import AutoTokenizer, AutoModel\n",
    "import torch\n",
    "from sklearn.metrics.pairwise import cosine_similarity\n",
    "import numpy as np\n",
    "# Initialize classifier\n",
    "from medimageinsightmodel import MedImageInsight\n",
    "import xml.etree.ElementTree as ET"
   ]
  },
  {
   "cell_type": "code",
   "execution_count": 2,
   "metadata": {},
   "outputs": [],
   "source": [
    "directory = \"../dataset/bio_med_research\""
   ]
  },
  {
   "cell_type": "code",
   "execution_count": 3,
   "metadata": {},
   "outputs": [
    {
     "name": "stdout",
     "output_type": "stream",
     "text": [
      "Model loaded successfully on device: cpu\n"
     ]
    }
   ],
   "source": [
    "# load model\n",
    "classifier = MedImageInsight(\n",
    "    model_dir=\"2024.09.27\",\n",
    "    vision_model_name=\"medimageinsigt-v1.0.0.pt\",\n",
    "    language_model_name=\"language_model.pth\"\n",
    ")\n",
    "\n",
    "# Load model\n",
    "classifier.load_model()"
   ]
  },
  {
   "cell_type": "code",
   "execution_count": 4,
   "metadata": {},
   "outputs": [],
   "source": [
    "# loading dataset\n",
    "def parse_xml(file):\n",
    "    tree = ET.parse(file)\n",
    "    root = tree.getroot()\n",
    "\n",
    "    sentence_data = []\n",
    "    for sentence in root.findall('sentence'):\n",
    "        sentence_id = sentence.get('id')\n",
    "        sentence_text = sentence.get('text')\n",
    "\n",
    "        sentence_data.append({\n",
    "            \"sentence_id\": sentence_id,\n",
    "            \"sentence_text\": sentence_text\n",
    "        })\n",
    "        \n",
    "    return pd.DataFrame(sentence_data)\n",
    "\n",
    "\n",
    "def load_dataset(path, filetype = \"csv\"):\n",
    "    if filetype == \"csv\":\n",
    "        all_files = []\n",
    "        for root, dirs, files in os.walk(path):\n",
    "            for file in files:\n",
    "                if file.endswith(\".csv\"):\n",
    "                    all_files.append(os.path.join(root, file))\n",
    "        ds = {}\n",
    "        for f in all_files:\n",
    "            df = pd.read_csv(f)\n",
    "            ds[f] = df\n",
    "        return ds\n",
    "    elif filetype == \"xml\":\n",
    "        all_files = []\n",
    "        for root, dirs, files in os.walk(path):\n",
    "            for file in files:\n",
    "                if file.endswith(\".xml\"):\n",
    "                    all_files.append(os.path.join(root, file))\n",
    "        ds = {}\n",
    "        for f in all_files:\n",
    "            ds[f] = parse_xml(f)\n",
    "        return ds"
   ]
  },
  {
   "cell_type": "code",
   "execution_count": null,
   "metadata": {},
   "outputs": [],
   "source": []
  }
 ],
 "metadata": {
  "kernelspec": {
   "display_name": "base",
   "language": "python",
   "name": "python3"
  },
  "language_info": {
   "codemirror_mode": {
    "name": "ipython",
    "version": 3
   },
   "file_extension": ".py",
   "mimetype": "text/x-python",
   "name": "python",
   "nbconvert_exporter": "python",
   "pygments_lexer": "ipython3",
   "version": "3.11.5"
  }
 },
 "nbformat": 4,
 "nbformat_minor": 2
}
