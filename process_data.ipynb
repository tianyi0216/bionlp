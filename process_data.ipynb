{
  "cells": [
    {
      "cell_type": "code",
      "execution_count": 1,
      "metadata": {
        "id": "tndlqgBDKNVC"
      },
      "outputs": [],
      "source": [
        "# One run of test to deduplicate the bio_med_research dataset\n",
        "import pandas as pd\n",
        "import os\n",
        "from transformers import AutoTokenizer, AutoModel\n",
        "import torch\n",
        "from sklearn.metrics.pairwise import cosine_similarity\n",
        "import numpy as np\n",
        "# Initialize classifier\n",
        "import xml.etree.ElementTree as ET\n",
        "import json\n",
        "from tqdm import tqdm"
      ]
    },
    {
      "cell_type": "code",
      "source": [
        "# if use colab, run this part\n",
        "from google.colab import drive\n",
        "\n",
        "drive.mount('/content/drive')\n",
        "os.chdir('/content/drive/MyDrive/bionlp')"
      ],
      "metadata": {
        "colab": {
          "base_uri": "https://localhost:8080/"
        },
        "id": "IGYAwqwpKc8I",
        "outputId": "19587cf6-4f85-4baa-b075-0350c6ac13e5"
      },
      "execution_count": 2,
      "outputs": [
        {
          "output_type": "stream",
          "name": "stdout",
          "text": [
            "Mounted at /content/drive\n"
          ]
        }
      ]
    },
    {
      "cell_type": "code",
      "source": [
        "os.chdir('MedImageInsights')"
      ],
      "metadata": {
        "id": "WARdAQ0BK6DY"
      },
      "execution_count": 3,
      "outputs": []
    },
    {
      "cell_type": "code",
      "execution_count": 4,
      "metadata": {
        "id": "KLQlEZLaKNVH"
      },
      "outputs": [],
      "source": [
        "directory = \"../dataset/QAs\""
      ]
    },
    {
      "cell_type": "code",
      "source": [
        "!pip install mup\n",
        "!pip install fvcore"
      ],
      "metadata": {
        "colab": {
          "base_uri": "https://localhost:8080/"
        },
        "id": "-ZKJZqjqLAwq",
        "outputId": "1f77201b-e5ae-4bf4-8188-7ae55d26ea15"
      },
      "execution_count": 5,
      "outputs": [
        {
          "output_type": "stream",
          "name": "stdout",
          "text": [
            "Collecting mup\n",
            "  Downloading mup-1.0.0.tar.gz (28 kB)\n",
            "  Preparing metadata (setup.py) ... \u001b[?25l\u001b[?25hdone\n",
            "Requirement already satisfied: numpy in /usr/local/lib/python3.10/dist-packages (from mup) (1.26.4)\n",
            "Requirement already satisfied: pandas in /usr/local/lib/python3.10/dist-packages (from mup) (2.2.2)\n",
            "Requirement already satisfied: torch in /usr/local/lib/python3.10/dist-packages (from mup) (2.5.1+cu121)\n",
            "Requirement already satisfied: torchvision in /usr/local/lib/python3.10/dist-packages (from mup) (0.20.1+cu121)\n",
            "Requirement already satisfied: seaborn in /usr/local/lib/python3.10/dist-packages (from mup) (0.13.2)\n",
            "Requirement already satisfied: tqdm in /usr/local/lib/python3.10/dist-packages (from mup) (4.66.6)\n",
            "Requirement already satisfied: pyyaml in /usr/local/lib/python3.10/dist-packages (from mup) (6.0.2)\n",
            "Requirement already satisfied: python-dateutil>=2.8.2 in /usr/local/lib/python3.10/dist-packages (from pandas->mup) (2.8.2)\n",
            "Requirement already satisfied: pytz>=2020.1 in /usr/local/lib/python3.10/dist-packages (from pandas->mup) (2024.2)\n",
            "Requirement already satisfied: tzdata>=2022.7 in /usr/local/lib/python3.10/dist-packages (from pandas->mup) (2024.2)\n",
            "Requirement already satisfied: matplotlib!=3.6.1,>=3.4 in /usr/local/lib/python3.10/dist-packages (from seaborn->mup) (3.8.0)\n",
            "Requirement already satisfied: filelock in /usr/local/lib/python3.10/dist-packages (from torch->mup) (3.16.1)\n",
            "Requirement already satisfied: typing-extensions>=4.8.0 in /usr/local/lib/python3.10/dist-packages (from torch->mup) (4.12.2)\n",
            "Requirement already satisfied: networkx in /usr/local/lib/python3.10/dist-packages (from torch->mup) (3.4.2)\n",
            "Requirement already satisfied: jinja2 in /usr/local/lib/python3.10/dist-packages (from torch->mup) (3.1.4)\n",
            "Requirement already satisfied: fsspec in /usr/local/lib/python3.10/dist-packages (from torch->mup) (2024.10.0)\n",
            "Requirement already satisfied: sympy==1.13.1 in /usr/local/lib/python3.10/dist-packages (from torch->mup) (1.13.1)\n",
            "Requirement already satisfied: mpmath<1.4,>=1.1.0 in /usr/local/lib/python3.10/dist-packages (from sympy==1.13.1->torch->mup) (1.3.0)\n",
            "Requirement already satisfied: pillow!=8.3.*,>=5.3.0 in /usr/local/lib/python3.10/dist-packages (from torchvision->mup) (11.0.0)\n",
            "Requirement already satisfied: contourpy>=1.0.1 in /usr/local/lib/python3.10/dist-packages (from matplotlib!=3.6.1,>=3.4->seaborn->mup) (1.3.1)\n",
            "Requirement already satisfied: cycler>=0.10 in /usr/local/lib/python3.10/dist-packages (from matplotlib!=3.6.1,>=3.4->seaborn->mup) (0.12.1)\n",
            "Requirement already satisfied: fonttools>=4.22.0 in /usr/local/lib/python3.10/dist-packages (from matplotlib!=3.6.1,>=3.4->seaborn->mup) (4.55.1)\n",
            "Requirement already satisfied: kiwisolver>=1.0.1 in /usr/local/lib/python3.10/dist-packages (from matplotlib!=3.6.1,>=3.4->seaborn->mup) (1.4.7)\n",
            "Requirement already satisfied: packaging>=20.0 in /usr/local/lib/python3.10/dist-packages (from matplotlib!=3.6.1,>=3.4->seaborn->mup) (24.2)\n",
            "Requirement already satisfied: pyparsing>=2.3.1 in /usr/local/lib/python3.10/dist-packages (from matplotlib!=3.6.1,>=3.4->seaborn->mup) (3.2.0)\n",
            "Requirement already satisfied: six>=1.5 in /usr/local/lib/python3.10/dist-packages (from python-dateutil>=2.8.2->pandas->mup) (1.16.0)\n",
            "Requirement already satisfied: MarkupSafe>=2.0 in /usr/local/lib/python3.10/dist-packages (from jinja2->torch->mup) (3.0.2)\n",
            "Building wheels for collected packages: mup\n",
            "  Building wheel for mup (setup.py) ... \u001b[?25l\u001b[?25hdone\n",
            "  Created wheel for mup: filename=mup-1.0.0-py3-none-any.whl size=23629 sha256=85d10b4375c17f732b73cdee478abe5449a6a95252a3271a95b234b7d04ea087\n",
            "  Stored in directory: /root/.cache/pip/wheels/f4/c8/88/3c23a3d10c50053b6552d2d30aee5b53ba89a47f742420036c\n",
            "Successfully built mup\n",
            "Installing collected packages: mup\n",
            "Successfully installed mup-1.0.0\n",
            "Collecting fvcore\n",
            "  Downloading fvcore-0.1.5.post20221221.tar.gz (50 kB)\n",
            "\u001b[2K     \u001b[90m━━━━━━━━━━━━━━━━━━━━━━━━━━━━━━━━━━━━━━━━\u001b[0m \u001b[32m50.2/50.2 kB\u001b[0m \u001b[31m2.8 MB/s\u001b[0m eta \u001b[36m0:00:00\u001b[0m\n",
            "\u001b[?25h  Preparing metadata (setup.py) ... \u001b[?25l\u001b[?25hdone\n",
            "Requirement already satisfied: numpy in /usr/local/lib/python3.10/dist-packages (from fvcore) (1.26.4)\n",
            "Collecting yacs>=0.1.6 (from fvcore)\n",
            "  Downloading yacs-0.1.8-py3-none-any.whl.metadata (639 bytes)\n",
            "Requirement already satisfied: pyyaml>=5.1 in /usr/local/lib/python3.10/dist-packages (from fvcore) (6.0.2)\n",
            "Requirement already satisfied: tqdm in /usr/local/lib/python3.10/dist-packages (from fvcore) (4.66.6)\n",
            "Requirement already satisfied: termcolor>=1.1 in /usr/local/lib/python3.10/dist-packages (from fvcore) (2.5.0)\n",
            "Requirement already satisfied: Pillow in /usr/local/lib/python3.10/dist-packages (from fvcore) (11.0.0)\n",
            "Requirement already satisfied: tabulate in /usr/local/lib/python3.10/dist-packages (from fvcore) (0.9.0)\n",
            "Collecting iopath>=0.1.7 (from fvcore)\n",
            "  Downloading iopath-0.1.10.tar.gz (42 kB)\n",
            "\u001b[2K     \u001b[90m━━━━━━━━━━━━━━━━━━━━━━━━━━━━━━━━━━━━━━━━\u001b[0m \u001b[32m42.2/42.2 kB\u001b[0m \u001b[31m3.9 MB/s\u001b[0m eta \u001b[36m0:00:00\u001b[0m\n",
            "\u001b[?25h  Preparing metadata (setup.py) ... \u001b[?25l\u001b[?25hdone\n",
            "Requirement already satisfied: typing_extensions in /usr/local/lib/python3.10/dist-packages (from iopath>=0.1.7->fvcore) (4.12.2)\n",
            "Collecting portalocker (from iopath>=0.1.7->fvcore)\n",
            "  Downloading portalocker-3.0.0-py3-none-any.whl.metadata (8.5 kB)\n",
            "Downloading yacs-0.1.8-py3-none-any.whl (14 kB)\n",
            "Downloading portalocker-3.0.0-py3-none-any.whl (19 kB)\n",
            "Building wheels for collected packages: fvcore, iopath\n",
            "  Building wheel for fvcore (setup.py) ... \u001b[?25l\u001b[?25hdone\n",
            "  Created wheel for fvcore: filename=fvcore-0.1.5.post20221221-py3-none-any.whl size=61396 sha256=8e0951448b31b83a26a5c5655ec89d7d2b7a1567034c86eec9dd7b6389342e03\n",
            "  Stored in directory: /root/.cache/pip/wheels/01/c0/af/77c1cf53a1be9e42a52b48e5af2169d40ec2e89f7362489dd0\n",
            "  Building wheel for iopath (setup.py) ... \u001b[?25l\u001b[?25hdone\n",
            "  Created wheel for iopath: filename=iopath-0.1.10-py3-none-any.whl size=31528 sha256=5577ea7173ab7bc0e7507e38f08cdb7bd95e53cb24268941a1f8b4c7a6a7a59a\n",
            "  Stored in directory: /root/.cache/pip/wheels/9a/a3/b6/ac0fcd1b4ed5cfeb3db92e6a0e476cfd48ed0df92b91080c1d\n",
            "Successfully built fvcore iopath\n",
            "Installing collected packages: yacs, portalocker, iopath, fvcore\n",
            "Successfully installed fvcore-0.1.5.post20221221 iopath-0.1.10 portalocker-3.0.0 yacs-0.1.8\n"
          ]
        }
      ]
    },
    {
      "cell_type": "code",
      "execution_count": 6,
      "metadata": {
        "colab": {
          "base_uri": "https://localhost:8080/"
        },
        "id": "bKhg0qAxKNVI",
        "outputId": "21319a9c-350c-420b-860c-7d7cde2a6df3"
      },
      "outputs": [
        {
          "output_type": "stream",
          "name": "stderr",
          "text": [
            "/usr/local/lib/python3.10/dist-packages/timm/models/layers/__init__.py:48: FutureWarning: Importing from timm.models.layers is deprecated, please import via timm.layers\n",
            "  warnings.warn(f\"Importing from {__name__} is deprecated, please import via timm.layers\", FutureWarning)\n"
          ]
        },
        {
          "output_type": "stream",
          "name": "stdout",
          "text": [
            "Model loaded successfully on device: cuda\n"
          ]
        }
      ],
      "source": [
        "# load model\n",
        "from medimageinsightmodel import MedImageInsight\n",
        "\n",
        "classifier = MedImageInsight(\n",
        "    model_dir=\"2024.09.27\",\n",
        "    vision_model_name=\"medimageinsigt-v1.0.0.pt\",\n",
        "    language_model_name=\"language_model.pth\"\n",
        ")\n",
        "\n",
        "# Load model\n",
        "classifier.load_model()"
      ]
    },
    {
      "cell_type": "code",
      "execution_count": 7,
      "metadata": {
        "id": "cxs29KXCKNVK"
      },
      "outputs": [],
      "source": [
        "# loading dataset\n",
        "def parse_xml(file):\n",
        "    tree = ET.parse(file)\n",
        "    root = tree.getroot()\n",
        "\n",
        "    sentence_data = []\n",
        "    for sentence in root.findall('sentence'):\n",
        "        sentence_id = sentence.get('id')\n",
        "        sentence_text = sentence.get('text')\n",
        "\n",
        "        sentence_data.append({\n",
        "            \"sentence_id\": sentence_id,\n",
        "            \"sentence_text\": sentence_text\n",
        "        })\n",
        "\n",
        "    return pd.DataFrame(sentence_data)\n",
        "\n",
        "\n",
        "def load_dataset(path, filetype = \"csv\"):\n",
        "    if filetype == \"csv\":\n",
        "        all_files = []\n",
        "        for root, dirs, files in tqdm(os.walk(path), desc = \"Loading CSV files\"):\n",
        "            for file in tqdm(files, desc = \"Processing file\"):\n",
        "                if file.endswith(\".csv\"):\n",
        "                    all_files.append(os.path.join(root, file))\n",
        "        ds = {}\n",
        "        for f in all_files:\n",
        "            df = pd.read_csv(f)\n",
        "            ds[f] = df\n",
        "        return ds\n",
        "    elif filetype == \"xml\":\n",
        "        all_files = []\n",
        "        for root, dirs, files in tqdm(os.walk(path), desc = \"Loading XML files\"):\n",
        "            for file in tqdm(files, desc = \"Processing file\"):\n",
        "                if file.endswith(\".xml\"):\n",
        "                    all_files.append(os.path.join(root, file))\n",
        "        ds = {}\n",
        "        for f in all_files:\n",
        "            ds[f] = parse_xml(f)\n",
        "        return ds\n",
        "    elif filetype == \"jsonl\":\n",
        "        all_files = []\n",
        "        for root, dirs, files in tqdm(os.walk(path), desc = \"Loading JSONL files\"):\n",
        "            for file in tqdm(files, desc = \"Processing file\"):\n",
        "                if file.endswith(\".jsonl\"):\n",
        "                    all_files.append(os.path.join(root, file))\n",
        "        ds = {}\n",
        "        for f in all_files:\n",
        "            print(\"current file: \", f)\n",
        "            with open(f, \"r\") as file:\n",
        "                data = [json.loads(line) for line in file]\n",
        "            ds[f] = pd.DataFrame(data)\n",
        "        return ds\n",
        "    elif filetype == \"json\":\n",
        "        all_files = []\n",
        "        for root, dirs, files in tqdm(os.walk(path), desc = \"Loading JSON files\"):\n",
        "            for file in tqdm(files, desc = \"Processing file\"):\n",
        "                if file.endswith(\".json\"):\n",
        "                    all_files.append(os.path.join(root, file))\n",
        "        ds = {}\n",
        "        for f in all_files:\n",
        "            with open(f, \"r\") as file:\n",
        "                data = json.load(file)\n",
        "            ds[f] = pd.DataFrame(data)\n",
        "        return ds\n",
        "\n"
      ]
    },
    {
      "cell_type": "code",
      "execution_count": 8,
      "metadata": {
        "id": "ys_wlbhgKNVL"
      },
      "outputs": [],
      "source": [
        "# functions for deduplication\n",
        "def get_embeddings(texts, batch_size = 64):\n",
        "    embeddings = []\n",
        "    for i in tqdm(range(0, len(texts), batch_size), desc = \"Generating embeddings\"):\n",
        "        batch_texts = texts[i:i+batch_size]\n",
        "        embeddings.extend(classifier.encode(texts = batch_texts)['text_embeddings'])\n",
        "    return np.array(embeddings)\n",
        "\n",
        "def compute_similarity(embeddings, threshold = 0.9):\n",
        "    n = len(embeddings)\n",
        "    to_remove = set()\n",
        "    for i in tqdm(range(n), desc = \"Computing similarity\"):\n",
        "        for j in range(i+1, n):\n",
        "            sim = cosine_similarity(embeddings[i].reshape(1, -1), embeddings[j].reshape(1, -1))[0][0]\n",
        "            if sim > threshold:\n",
        "                to_remove.add(j)\n",
        "    return to_remove\n",
        "\n",
        "def compute_similarity_between_datasets(embeddings1, embeddings2, threshold = 0.9):\n",
        "    to_remove = set()\n",
        "    for i in tqdm(range(len(embeddings1)), desc = \"Computing similarity\"):\n",
        "        for j in range(len(embeddings2)):\n",
        "            sim = cosine_similarity(embeddings1[i].reshape(1, -1), embeddings2[j].reshape(1, -1))[0][0]\n",
        "            if sim > threshold:\n",
        "                to_remove.add(j)\n",
        "    return to_remove\n",
        "\n",
        "def deduplication_within_dataset_qa(dataset, threshold = 0.9):\n",
        "    questions = dataset[\"question\"].tolist()\n",
        "    #answers = dataset[\"answer\"].tolist()\n",
        "\n",
        "    question_embeddings = get_embeddings(questions)\n",
        "    to_remove_questions = compute_similarity(question_embeddings, threshold)\n",
        "\n",
        "    new_dataset = dataset.drop(index = list(to_remove_questions)).reset_index(drop=True)\n",
        "\n",
        "    answers = new_dataset[\"answer\"].tolist()\n",
        "    answer_embeddings = get_embeddings(answers)\n",
        "    to_remove_answers = compute_similarity(answer_embeddings, threshold)\n",
        "\n",
        "    new_dataset = new_dataset.drop(index = list(to_remove_answers)).reset_index(drop=True)\n",
        "    return new_dataset, list(to_remove_questions), list(to_remove_answers)\n",
        "\n",
        "\n",
        "def deduplicate_across_datasets_qa(old_datasets, new_dataset, threshold = 0.9):\n",
        "    # Combine all old dataset questions and answers\n",
        "    all_old_questions = []\n",
        "    all_old_answers = []\n",
        "\n",
        "    for dataset in old_datasets:\n",
        "        all_old_questions.extend(dataset[\"question\"].tolist())\n",
        "        all_old_answers.extend(dataset[\"answer\"].tolist())\n",
        "\n",
        "    # Generate embeddings for old dataset questions and answers\n",
        "    old_question_embeddings = get_embeddings(all_old_questions)\n",
        "    old_answer_embeddings = get_embeddings(all_old_answers)\n",
        "\n",
        "    # Generate embeddings for new dataset questions and answers\n",
        "    new_question_embeddings = get_embeddings(new_dataset[\"question\"].tolist())\n",
        "    new_answer_embeddings = get_embeddings(new_dataset[\"answer\"].tolist())\n",
        "\n",
        "    # Deduplicate new questions\n",
        "    to_remove_questions = compute_similarity_between_datasets(new_question_embeddings, old_question_embeddings)\n",
        "\n",
        "    # Deduplicate new answers\n",
        "    to_remove_answers = compute_similarity_between_datasets(new_answer_embeddings, old_answer_embeddings)\n",
        "\n",
        "    # Combine removal indices\n",
        "    to_remove = to_remove_questions.union(to_remove_answers)\n",
        "\n",
        "    # Drop duplicates from new dataset\n",
        "    deduplicated_new_dataset = new_dataset.drop(index=list(to_remove)).reset_index(drop=True)\n",
        "\n",
        "    return deduplicated_new_dataset, list(to_remove_questions), list(to_remove_answers)\n",
        "\n"
      ]
    },
    {
      "cell_type": "code",
      "execution_count": null,
      "metadata": {
        "id": "KipA_1nMKNVM",
        "outputId": "6d391d9a-1a37-4b40-8897-9124faa8ad3a"
      },
      "outputs": [
        {
          "name": "stdout",
          "output_type": "stream",
          "text": [
            "current file:  ../dataset/QAs/MedQA-USMLE/questions/US/train.jsonl\n",
            "current file:  ../dataset/QAs/MedQA-USMLE/questions/US/test.jsonl\n",
            "current file:  ../dataset/QAs/MedQA-USMLE/questions/US/dev.jsonl\n",
            "current file:  ../dataset/QAs/MedQA-USMLE/questions/US/US_qbank.jsonl\n",
            "current file:  ../dataset/QAs/MedQA-USMLE/questions/US/metamap_extracted_phrases/test/phrases_test.jsonl\n",
            "current file:  ../dataset/QAs/MedQA-USMLE/questions/US/metamap_extracted_phrases/train/phrases_train.jsonl\n",
            "current file:  ../dataset/QAs/MedQA-USMLE/questions/US/metamap_extracted_phrases/dev/phrases_dev.jsonl\n",
            "current file:  ../dataset/QAs/MedQA-USMLE/questions/US/4_options/phrases_no_exclude_test.jsonl\n",
            "current file:  ../dataset/QAs/MedQA-USMLE/questions/US/4_options/phrases_no_exclude_dev.jsonl\n",
            "current file:  ../dataset/QAs/MedQA-USMLE/questions/US/4_options/phrases_no_exclude_train.jsonl\n",
            "current file:  ../dataset/QAs/MedQA-USMLE/questions/Taiwan/train.jsonl\n",
            "current file:  ../dataset/QAs/MedQA-USMLE/questions/Taiwan/test.jsonl\n",
            "current file:  ../dataset/QAs/MedQA-USMLE/questions/Taiwan/taiwanese_qbank.jsonl\n",
            "current file:  ../dataset/QAs/MedQA-USMLE/questions/Taiwan/dev.jsonl\n",
            "current file:  ../dataset/QAs/MedQA-USMLE/questions/Taiwan/metamap/test/tw_test.jsonl\n",
            "current file:  ../dataset/QAs/MedQA-USMLE/questions/Taiwan/metamap/train/tw_train.jsonl\n",
            "current file:  ../dataset/QAs/MedQA-USMLE/questions/Taiwan/metamap/dev/tw_dev.jsonl\n",
            "current file:  ../dataset/QAs/MedQA-USMLE/questions/Taiwan/tw_translated_jsonl/zh/test-2zh.jsonl\n",
            "current file:  ../dataset/QAs/MedQA-USMLE/questions/Taiwan/tw_translated_jsonl/zh/dev-2zh.jsonl\n",
            "current file:  ../dataset/QAs/MedQA-USMLE/questions/Taiwan/tw_translated_jsonl/zh/train-2zh.jsonl\n",
            "current file:  ../dataset/QAs/MedQA-USMLE/questions/Taiwan/tw_translated_jsonl/en/train-2en.jsonl\n",
            "current file:  ../dataset/QAs/MedQA-USMLE/questions/Taiwan/tw_translated_jsonl/en/dev-2en.jsonl\n",
            "current file:  ../dataset/QAs/MedQA-USMLE/questions/Taiwan/tw_translated_jsonl/en/test-2en.jsonl\n",
            "current file:  ../dataset/QAs/MedQA-USMLE/questions/Mainland/train.jsonl\n",
            "current file:  ../dataset/QAs/MedQA-USMLE/questions/Mainland/test.jsonl\n",
            "current file:  ../dataset/QAs/MedQA-USMLE/questions/Mainland/chinese_qbank.jsonl\n",
            "current file:  ../dataset/QAs/MedQA-USMLE/questions/Mainland/dev.jsonl\n",
            "current file:  ../dataset/QAs/MedQA-USMLE/questions/Mainland/4_options/train.jsonl\n",
            "current file:  ../dataset/QAs/MedQA-USMLE/questions/Mainland/4_options/test.jsonl\n",
            "current file:  ../dataset/QAs/MedQA-USMLE/questions/Mainland/4_options/dev.jsonl\n",
            "current file:  ../dataset/QAs/MedMCQA/data/train.jsonl\n",
            "current file:  ../dataset/QAs/MedMCQA/data/test.jsonl\n",
            "current file:  ../dataset/QAs/MedMCQA/data/dev.jsonl\n"
          ]
        }
      ],
      "source": [
        "ds_jsonl = load_dataset(directory, \"jsonl\")"
      ]
    },
    {
      "cell_type": "code",
      "execution_count": null,
      "metadata": {
        "id": "Nj1I85IlKNVN"
      },
      "outputs": [],
      "source": [
        "ds_json = load_dataset(directory, \"json\")"
      ]
    },
    {
      "cell_type": "code",
      "execution_count": null,
      "metadata": {
        "id": "h7B86485KNVO",
        "outputId": "0a18dd8f-b55a-40c6-b75a-329815f33edb"
      },
      "outputs": [
        {
          "name": "stderr",
          "output_type": "stream",
          "text": [
            "Processing file: 100%|██████████| 1/1 [00:00<00:00, 28532.68it/s]\n",
            "Processing file: 100%|██████████| 1/1 [00:00<00:00, 33288.13it/s]\n",
            "Processing file: 100%|██████████| 1/1 [00:00<00:00, 26886.56it/s]\n",
            "Processing file: 0it [00:00, ?it/s]\n",
            "Processing file: 100%|██████████| 18/18 [00:00<00:00, 645277.54it/s]\n",
            "Processing file: 100%|██████████| 2/2 [00:00<00:00, 86480.49it/s]\n",
            "Processing file: 100%|██████████| 2/2 [00:00<00:00, 64527.75it/s]\n",
            "Processing file: 100%|██████████| 1/1 [00:00<00:00, 41527.76it/s]\n",
            "Processing file: 100%|██████████| 4/4 [00:00<00:00, 152520.15it/s]\n",
            "Processing file: 0it [00:00, ?it/s]\n",
            "Processing file: 100%|██████████| 1/1 [00:00<00:00, 41527.76it/s]\n",
            "Processing file: 100%|██████████| 1/1 [00:00<00:00, 47662.55it/s]\n",
            "Processing file: 100%|██████████| 1/1 [00:00<00:00, 49932.19it/s]\n",
            "Processing file: 100%|██████████| 3/3 [00:00<00:00, 112347.43it/s]\n",
            "Processing file: 100%|██████████| 4/4 [00:00<00:00, 152520.15it/s]\n",
            "Processing file: 0it [00:00, ?it/s]\n",
            "Processing file: 100%|██████████| 1/1 [00:00<00:00, 39945.75it/s]\n",
            "Processing file: 100%|██████████| 1/1 [00:00<00:00, 13530.01it/s]\n",
            "Processing file: 100%|██████████| 1/1 [00:00<00:00, 47662.55it/s]\n",
            "Processing file: 0it [00:00, ?it/s]\n",
            "Processing file: 100%|██████████| 3/3 [00:00<00:00, 159277.37it/s]\n",
            "Processing file: 100%|██████████| 3/3 [00:00<00:00, 149796.57it/s]\n",
            "Processing file: 100%|██████████| 4/4 [00:00<00:00, 223696.21it/s]\n",
            "Processing file: 100%|██████████| 3/3 [00:00<00:00, 141381.03it/s]\n",
            "Processing file: 100%|██████████| 2/2 [00:00<00:00, 76260.07it/s]\n",
            "Processing file: 100%|██████████| 3/3 [00:00<00:00, 155344.59it/s]\n",
            "Processing file: 100%|██████████| 3/3 [00:00<00:00, 155344.59it/s]\n",
            "Loading CSV files: 27it [00:00, 770.79it/s]\n"
          ]
        }
      ],
      "source": [
        "ds_csv = load_dataset(directory, \"csv\")"
      ]
    },
    {
      "cell_type": "code",
      "execution_count": null,
      "metadata": {
        "id": "hvHaKh9oKNVP",
        "outputId": "1e81a57e-f836-4ae6-be03-f06a71be8598"
      },
      "outputs": [
        {
          "data": {
            "text/plain": [
              "dict_keys(['../dataset/QAs/MedicationQA/medicationqa_train_fulltext.csv'])"
            ]
          },
          "execution_count": 51,
          "metadata": {},
          "output_type": "execute_result"
        }
      ],
      "source": [
        "ds_csv.keys()\n"
      ]
    },
    {
      "cell_type": "code",
      "execution_count": null,
      "metadata": {
        "id": "zpednyKTKNVQ"
      },
      "outputs": [],
      "source": [
        "medicationqa = ds_csv['../dataset/QAs/MedicationQA/medicationqa_train_fulltext.csv']"
      ]
    },
    {
      "cell_type": "code",
      "execution_count": null,
      "metadata": {
        "id": "1SFK3SFlKNVQ"
      },
      "outputs": [],
      "source": [
        "#rename columns\n",
        "medicationqa = medicationqa.rename(columns = {\"Question\": \"question\", \"Answer\": \"answer\"})"
      ]
    },
    {
      "cell_type": "code",
      "execution_count": null,
      "metadata": {
        "id": "1MjP92iQKNVQ"
      },
      "outputs": [],
      "source": [
        "#drop all na in question or answer\n",
        "medicationqa.dropna(subset = [\"question\", \"answer\"], inplace = True)\n"
      ]
    },
    {
      "cell_type": "code",
      "execution_count": null,
      "metadata": {
        "id": "rREfvi0BKNVR",
        "outputId": "281c664e-f4e2-4790-e952-a89c8d4b6d27"
      },
      "outputs": [
        {
          "data": {
            "text/plain": [
              "689"
            ]
          },
          "execution_count": 55,
          "metadata": {},
          "output_type": "execute_result"
        }
      ],
      "source": [
        "len(medicationqa)"
      ]
    },
    {
      "cell_type": "code",
      "execution_count": null,
      "metadata": {
        "id": "OtsOduyrKNVR",
        "outputId": "52850a7c-aff8-4d88-e2a6-1a6489de3d84"
      },
      "outputs": [
        {
          "name": "stderr",
          "output_type": "stream",
          "text": [
            "Generating embeddings: 100%|██████████| 11/11 [00:29<00:00,  2.67s/it]\n",
            "Computing similarity: 100%|██████████| 689/689 [00:33<00:00, 20.49it/s] \n",
            "Generating embeddings: 100%|██████████| 10/10 [00:29<00:00,  2.97s/it]\n",
            "Computing similarity: 100%|██████████| 630/630 [00:28<00:00, 22.40it/s] "
          ]
        },
        {
          "name": "stdout",
          "output_type": "stream",
          "text": [
            "59 43\n"
          ]
        },
        {
          "name": "stderr",
          "output_type": "stream",
          "text": [
            "\n"
          ]
        }
      ],
      "source": [
        "#deduplicate within dataset\n",
        "medicationqa, removed_questions, removed_answers = deduplication_within_dataset_qa(medicationqa)\n",
        "print(len(removed_questions), len(removed_answers))\n"
      ]
    },
    {
      "cell_type": "code",
      "execution_count": null,
      "metadata": {
        "id": "QBAq7_Q_KNVR"
      },
      "outputs": [],
      "source": [
        "medicationqa.to_csv(\"../deduplicated_data/QAs/MedicationQA/medicationqa_train_fulltext_deduplicated.csv\", index = False)"
      ]
    },
    {
      "cell_type": "code",
      "execution_count": 9,
      "metadata": {
        "colab": {
          "base_uri": "https://localhost:8080/"
        },
        "id": "MEvzKmvOKNVR",
        "outputId": "b48068d5-2641-413f-cb55-c7325aafe253"
      },
      "outputs": [
        {
          "output_type": "stream",
          "name": "stderr",
          "text": [
            "Loading JSON files: 0it [00:00, ?it/s]\n",
            "Processing file: 100%|██████████| 1/1 [00:00<00:00, 9383.23it/s]\n",
            "Loading JSON files: 1it [00:00,  2.27it/s]\n",
            "Processing file: 100%|██████████| 1/1 [00:00<00:00, 10459.61it/s]\n",
            "Loading JSON files: 2it [00:00,  3.66it/s]\n",
            "Processing file: 0it [00:00, ?it/s]\n",
            "Loading JSON files: 3it [00:00,  4.33it/s]\n",
            "Processing file: 100%|██████████| 2/2 [00:00<00:00, 20661.60it/s]\n",
            "Loading JSON files: 4it [00:01,  3.88it/s]\n",
            "Processing file: 100%|██████████| 18/18 [00:00<00:00, 212071.55it/s]\n",
            "\n",
            "Processing file: 100%|██████████| 2/2 [00:00<00:00, 23172.95it/s]\n",
            "\n",
            "Processing file: 100%|██████████| 1/1 [00:00<00:00, 10305.42it/s]\n",
            "\n",
            "Processing file: 100%|██████████| 4/4 [00:00<00:00, 33354.31it/s]\n",
            "Loading JSON files: 8it [00:01,  8.50it/s]\n",
            "Processing file: 100%|██████████| 3/3 [00:00<00:00, 24818.37it/s]\n",
            "Loading JSON files: 9it [00:01,  7.79it/s]\n",
            "Processing file: 100%|██████████| 4/4 [00:00<00:00, 52924.97it/s]\n",
            "\n",
            "Processing file: 100%|██████████| 3/3 [00:00<00:00, 35848.75it/s]\n",
            "Loading JSON files: 11it [00:01,  8.11it/s]\n",
            "Processing file: 0it [00:00, ?it/s]\n",
            "\n",
            "Processing file: 100%|██████████| 1/1 [00:00<00:00, 10866.07it/s]\n",
            "Loading JSON files: 13it [00:02,  5.17it/s]\n",
            "Processing file: 100%|██████████| 1/1 [00:00<00:00, 13842.59it/s]\n",
            "\n",
            "Processing file: 100%|██████████| 1/1 [00:00<00:00, 14463.12it/s]\n",
            "\n",
            "Processing file: 100%|██████████| 4/4 [00:00<00:00, 50533.78it/s]\n",
            "\n",
            "Processing file: 0it [00:00, ?it/s]\n",
            "Loading JSON files: 17it [00:02,  8.41it/s]\n",
            "Processing file: 100%|██████████| 3/3 [00:00<00:00, 32598.22it/s]\n",
            "\n",
            "Processing file: 100%|██████████| 3/3 [00:00<00:00, 31223.11it/s]\n",
            "Loading JSON files: 19it [00:02,  9.18it/s]\n",
            "Processing file: 0it [00:00, ?it/s]\n",
            "\n",
            "Processing file: 100%|██████████| 1/1 [00:00<00:00, 8811.56it/s]\n",
            "Loading JSON files: 21it [00:02,  9.19it/s]\n",
            "Processing file: 100%|██████████| 1/1 [00:00<00:00, 14169.95it/s]\n",
            "\n",
            "Processing file: 100%|██████████| 1/1 [00:00<00:00, 15087.42it/s]\n",
            "\n",
            "Processing file: 100%|██████████| 2/2 [00:00<00:00, 20560.31it/s]\n",
            "\n",
            "Processing file: 100%|██████████| 3/3 [00:00<00:00, 37900.34it/s]\n",
            "Loading JSON files: 25it [00:03, 11.49it/s]\n",
            "Processing file: 100%|██████████| 1/1 [00:00<00:00, 12710.01it/s]\n",
            "\n",
            "Processing file: 100%|██████████| 3/3 [00:00<00:00, 38014.84it/s]\n",
            "Loading JSON files: 27it [00:03,  8.56it/s]\n"
          ]
        }
      ],
      "source": [
        "ds_json = load_dataset(directory, \"json\")"
      ]
    },
    {
      "cell_type": "code",
      "execution_count": 10,
      "metadata": {
        "colab": {
          "base_uri": "https://localhost:8080/"
        },
        "id": "HOG4gJXdKNVR",
        "outputId": "5a46424d-37b9-41cb-9dc1-bd11002ef24e"
      },
      "outputs": [
        {
          "output_type": "execute_result",
          "data": {
            "text/plain": [
              "dict_keys(['../dataset/QAs/PubMedQA/ori_pqal.json', '../dataset/QAs/PubMedQA/ori_pqau.json', '../dataset/QAs/PubMedQA/ori_pqaa.json'])"
            ]
          },
          "metadata": {},
          "execution_count": 10
        }
      ],
      "source": [
        "ds_json.keys()"
      ]
    },
    {
      "cell_type": "code",
      "execution_count": 11,
      "metadata": {
        "colab": {
          "base_uri": "https://localhost:8080/"
        },
        "id": "4kiEc8cUKNVR",
        "outputId": "5177a451-3860-4c45-b468-730174bea822"
      },
      "outputs": [
        {
          "output_type": "stream",
          "name": "stdout",
          "text": [
            "Length of pubmedqa1:  211269\n",
            "Length of pubmedqa2:  61249\n",
            "Length of pubmedqa3:  1000\n"
          ]
        }
      ],
      "source": [
        "pubmedqa1 = ds_json['../dataset/QAs/PubMedQA/ori_pqaa.json'].T\n",
        "pubmedqa2 = ds_json['../dataset/QAs/PubMedQA/ori_pqau.json'].T\n",
        "pubmedqa3 = ds_json['../dataset/QAs/PubMedQA/ori_pqal.json'].T\n",
        "print(\"Length of pubmedqa1: \", len(pubmedqa1))\n",
        "print(\"Length of pubmedqa2: \", len(pubmedqa2))\n",
        "print(\"Length of pubmedqa3: \", len(pubmedqa3))\n"
      ]
    },
    {
      "cell_type": "code",
      "execution_count": 12,
      "metadata": {
        "colab": {
          "base_uri": "https://localhost:8080/"
        },
        "id": "qoXwXj82KNVS",
        "outputId": "2686beec-1a90-47ce-c74e-2c44f9b3d57c"
      },
      "outputs": [
        {
          "output_type": "stream",
          "name": "stdout",
          "text": [
            "Length of pubmedqa1:  211269\n",
            "Length of pubmedqa2:  61249\n",
            "Length of pubmedqa3:  1000\n"
          ]
        }
      ],
      "source": [
        "pubmedqa1.rename(columns = {\"QUESTION\": \"question\", \"LONG_ANSWER\": \"answer\"}, inplace = True)\n",
        "pubmedqa2.rename(columns = {\"QUESTION\": \"question\", \"LONG_ANSWER\": \"answer\"}, inplace = True)\n",
        "pubmedqa3.rename(columns = {\"QUESTION\": \"question\", \"LONG_ANSWER\": \"answer\"}, inplace = True)\n",
        "pubmedqa1.dropna(subset = [\"question\", \"answer\"], inplace = True)\n",
        "pubmedqa2.dropna(subset = [\"question\", \"answer\"], inplace = True)\n",
        "pubmedqa3.dropna(subset = [\"question\", \"answer\"], inplace = True)\n",
        "\n",
        "print(\"Length of pubmedqa1: \", len(pubmedqa1))\n",
        "print(\"Length of pubmedqa2: \", len(pubmedqa2))\n",
        "print(\"Length of pubmedqa3: \", len(pubmedqa3))\n",
        "\n"
      ]
    },
    {
      "cell_type": "code",
      "execution_count": 15,
      "metadata": {
        "colab": {
          "base_uri": "https://localhost:8080/",
          "height": 382
        },
        "id": "6eaTTxURKNVS",
        "outputId": "416ef625-4cf1-4cfd-eecf-fbbe3539ec81"
      },
      "outputs": [
        {
          "output_type": "stream",
          "name": "stderr",
          "text": [
            "Generating embeddings:   0%|          | 0/3302 [00:00<?, ?it/s]\n"
          ]
        },
        {
          "output_type": "error",
          "ename": "RuntimeError",
          "evalue": "Can't call numpy() on Tensor that requires grad. Use tensor.detach().numpy() instead.",
          "traceback": [
            "\u001b[0;31m---------------------------------------------------------------------------\u001b[0m",
            "\u001b[0;31mRuntimeError\u001b[0m                              Traceback (most recent call last)",
            "\u001b[0;32m<ipython-input-15-29e7757954b1>\u001b[0m in \u001b[0;36m<cell line: 2>\u001b[0;34m()\u001b[0m\n\u001b[1;32m      1\u001b[0m \u001b[0;31m# self deduplicate first\u001b[0m\u001b[0;34m\u001b[0m\u001b[0;34m\u001b[0m\u001b[0m\n\u001b[0;32m----> 2\u001b[0;31m \u001b[0mpubmedqa1\u001b[0m\u001b[0;34m,\u001b[0m \u001b[0mremoved_questions\u001b[0m\u001b[0;34m,\u001b[0m \u001b[0mremoved_answers\u001b[0m \u001b[0;34m=\u001b[0m \u001b[0mdeduplication_within_dataset_qa\u001b[0m\u001b[0;34m(\u001b[0m\u001b[0mpubmedqa1\u001b[0m\u001b[0;34m)\u001b[0m\u001b[0;34m\u001b[0m\u001b[0;34m\u001b[0m\u001b[0m\n\u001b[0m\u001b[1;32m      3\u001b[0m \u001b[0mprint\u001b[0m\u001b[0;34m(\u001b[0m\u001b[0mlen\u001b[0m\u001b[0;34m(\u001b[0m\u001b[0mremoved_questions\u001b[0m\u001b[0;34m)\u001b[0m\u001b[0;34m,\u001b[0m \u001b[0mlen\u001b[0m\u001b[0;34m(\u001b[0m\u001b[0mremoved_answers\u001b[0m\u001b[0;34m)\u001b[0m\u001b[0;34m)\u001b[0m\u001b[0;34m\u001b[0m\u001b[0;34m\u001b[0m\u001b[0m\n\u001b[1;32m      4\u001b[0m \u001b[0;34m\u001b[0m\u001b[0m\n\u001b[1;32m      5\u001b[0m \u001b[0mpubmedqa1\u001b[0m\u001b[0;34m.\u001b[0m\u001b[0mto_csv\u001b[0m\u001b[0;34m(\u001b[0m\u001b[0;34m\"../deduplicated_data/QAs/PubMedQA/ori_pqaa_deduplicated.csv\"\u001b[0m\u001b[0;34m,\u001b[0m \u001b[0mindex\u001b[0m \u001b[0;34m=\u001b[0m \u001b[0;32mFalse\u001b[0m\u001b[0;34m)\u001b[0m\u001b[0;34m\u001b[0m\u001b[0;34m\u001b[0m\u001b[0m\n",
            "\u001b[0;32m<ipython-input-9-28a6f7eebc01>\u001b[0m in \u001b[0;36mdeduplication_within_dataset_qa\u001b[0;34m(dataset, threshold)\u001b[0m\n\u001b[1;32m     30\u001b[0m     \u001b[0;31m#answers = dataset[\"answer\"].tolist()\u001b[0m\u001b[0;34m\u001b[0m\u001b[0;34m\u001b[0m\u001b[0m\n\u001b[1;32m     31\u001b[0m \u001b[0;34m\u001b[0m\u001b[0m\n\u001b[0;32m---> 32\u001b[0;31m     \u001b[0mquestion_embeddings\u001b[0m \u001b[0;34m=\u001b[0m \u001b[0mget_embeddings\u001b[0m\u001b[0;34m(\u001b[0m\u001b[0mquestions\u001b[0m\u001b[0;34m)\u001b[0m\u001b[0;34m\u001b[0m\u001b[0;34m\u001b[0m\u001b[0m\n\u001b[0m\u001b[1;32m     33\u001b[0m     \u001b[0mto_remove_questions\u001b[0m \u001b[0;34m=\u001b[0m \u001b[0mcompute_similarity\u001b[0m\u001b[0;34m(\u001b[0m\u001b[0mquestion_embeddings\u001b[0m\u001b[0;34m,\u001b[0m \u001b[0mthreshold\u001b[0m\u001b[0;34m)\u001b[0m\u001b[0;34m\u001b[0m\u001b[0;34m\u001b[0m\u001b[0m\n\u001b[1;32m     34\u001b[0m \u001b[0;34m\u001b[0m\u001b[0m\n",
            "\u001b[0;32m<ipython-input-9-28a6f7eebc01>\u001b[0m in \u001b[0;36mget_embeddings\u001b[0;34m(texts, batch_size)\u001b[0m\n\u001b[1;32m      4\u001b[0m     \u001b[0;32mfor\u001b[0m \u001b[0mi\u001b[0m \u001b[0;32min\u001b[0m \u001b[0mtqdm\u001b[0m\u001b[0;34m(\u001b[0m\u001b[0mrange\u001b[0m\u001b[0;34m(\u001b[0m\u001b[0;36m0\u001b[0m\u001b[0;34m,\u001b[0m \u001b[0mlen\u001b[0m\u001b[0;34m(\u001b[0m\u001b[0mtexts\u001b[0m\u001b[0;34m)\u001b[0m\u001b[0;34m,\u001b[0m \u001b[0mbatch_size\u001b[0m\u001b[0;34m)\u001b[0m\u001b[0;34m,\u001b[0m \u001b[0mdesc\u001b[0m \u001b[0;34m=\u001b[0m \u001b[0;34m\"Generating embeddings\"\u001b[0m\u001b[0;34m)\u001b[0m\u001b[0;34m:\u001b[0m\u001b[0;34m\u001b[0m\u001b[0;34m\u001b[0m\u001b[0m\n\u001b[1;32m      5\u001b[0m         \u001b[0mbatch_texts\u001b[0m \u001b[0;34m=\u001b[0m \u001b[0mtexts\u001b[0m\u001b[0;34m[\u001b[0m\u001b[0mi\u001b[0m\u001b[0;34m:\u001b[0m\u001b[0mi\u001b[0m\u001b[0;34m+\u001b[0m\u001b[0mbatch_size\u001b[0m\u001b[0;34m]\u001b[0m\u001b[0;34m\u001b[0m\u001b[0;34m\u001b[0m\u001b[0m\n\u001b[0;32m----> 6\u001b[0;31m         \u001b[0membeddings\u001b[0m\u001b[0;34m.\u001b[0m\u001b[0mextend\u001b[0m\u001b[0;34m(\u001b[0m\u001b[0mclassifier\u001b[0m\u001b[0;34m.\u001b[0m\u001b[0mencode\u001b[0m\u001b[0;34m(\u001b[0m\u001b[0mtexts\u001b[0m \u001b[0;34m=\u001b[0m \u001b[0mbatch_texts\u001b[0m\u001b[0;34m)\u001b[0m\u001b[0;34m[\u001b[0m\u001b[0;34m'text_embeddings'\u001b[0m\u001b[0;34m]\u001b[0m\u001b[0;34m)\u001b[0m\u001b[0;34m\u001b[0m\u001b[0;34m\u001b[0m\u001b[0m\n\u001b[0m\u001b[1;32m      7\u001b[0m     \u001b[0;32mreturn\u001b[0m \u001b[0mnp\u001b[0m\u001b[0;34m.\u001b[0m\u001b[0marray\u001b[0m\u001b[0;34m(\u001b[0m\u001b[0membeddings\u001b[0m\u001b[0;34m)\u001b[0m\u001b[0;34m\u001b[0m\u001b[0;34m\u001b[0m\u001b[0m\n\u001b[1;32m      8\u001b[0m \u001b[0;34m\u001b[0m\u001b[0m\n",
            "\u001b[0;32m/content/drive/MyDrive/bionlp/MedImageInsights/medimageinsightmodel.py\u001b[0m in \u001b[0;36mencode\u001b[0;34m(self, images, texts)\u001b[0m\n\u001b[1;32m    186\u001b[0m             \u001b[0;31m# Move text tensors to the correct device\u001b[0m\u001b[0;34m\u001b[0m\u001b[0;34m\u001b[0m\u001b[0m\n\u001b[1;32m    187\u001b[0m             \u001b[0mtext_tokens\u001b[0m \u001b[0;34m=\u001b[0m \u001b[0;34m{\u001b[0m\u001b[0mk\u001b[0m\u001b[0;34m:\u001b[0m \u001b[0mv\u001b[0m\u001b[0;34m.\u001b[0m\u001b[0mto\u001b[0m\u001b[0;34m(\u001b[0m\u001b[0mself\u001b[0m\u001b[0;34m.\u001b[0m\u001b[0mdevice\u001b[0m\u001b[0;34m)\u001b[0m \u001b[0;32mfor\u001b[0m \u001b[0mk\u001b[0m\u001b[0;34m,\u001b[0m \u001b[0mv\u001b[0m \u001b[0;32min\u001b[0m \u001b[0mtext_tokens\u001b[0m\u001b[0;34m.\u001b[0m\u001b[0mitems\u001b[0m\u001b[0;34m(\u001b[0m\u001b[0;34m)\u001b[0m\u001b[0;34m}\u001b[0m\u001b[0;34m\u001b[0m\u001b[0;34m\u001b[0m\u001b[0m\n\u001b[0;32m--> 188\u001b[0;31m             \u001b[0moutput\u001b[0m\u001b[0;34m[\u001b[0m\u001b[0;34m\"text_embeddings\"\u001b[0m\u001b[0;34m]\u001b[0m \u001b[0;34m=\u001b[0m \u001b[0mself\u001b[0m\u001b[0;34m.\u001b[0m\u001b[0mmodel\u001b[0m\u001b[0;34m.\u001b[0m\u001b[0mencode_text\u001b[0m\u001b[0;34m(\u001b[0m\u001b[0mtext_tokens\u001b[0m\u001b[0;34m)\u001b[0m\u001b[0;34m.\u001b[0m\u001b[0mcpu\u001b[0m\u001b[0;34m(\u001b[0m\u001b[0;34m)\u001b[0m\u001b[0;34m.\u001b[0m\u001b[0mdetach\u001b[0m\u001b[0;34m(\u001b[0m\u001b[0;34m)\u001b[0m\u001b[0;34m.\u001b[0m\u001b[0mnumpy\u001b[0m\u001b[0;34m(\u001b[0m\u001b[0;34m)\u001b[0m\u001b[0;34m\u001b[0m\u001b[0;34m\u001b[0m\u001b[0m\n\u001b[0m\u001b[1;32m    189\u001b[0m \u001b[0;34m\u001b[0m\u001b[0m\n\u001b[1;32m    190\u001b[0m \u001b[0;34m\u001b[0m\u001b[0m\n",
            "\u001b[0;31mRuntimeError\u001b[0m: Can't call numpy() on Tensor that requires grad. Use tensor.detach().numpy() instead."
          ]
        }
      ],
      "source": [
        "# self deduplicate first\n",
        "pubmedqa1, removed_questions, removed_answers = deduplication_within_dataset_qa(pubmedqa1)\n",
        "print(len(removed_questions), len(removed_answers))\n",
        "\n",
        "pubmedqa1.to_csv(\"../deduplicated_data/QAs/PubMedQA/ori_pqaa_deduplicated.csv\", index = False)"
      ]
    },
    {
      "cell_type": "code",
      "source": [
        "pubmedqa3, removed_questions, removed_answers = deduplication_within_dataset_qa(pubmedqa3)\n",
        "print(len(removed_questions), len(removed_answers))\n",
        "\n",
        "pubmedqa3.to_csv(\"../deduplicated_data/QAs/PubMedQA/ori_pqal_deduplicated.csv\", index = False)"
      ],
      "metadata": {
        "colab": {
          "base_uri": "https://localhost:8080/"
        },
        "id": "wXAXvApBLzWx",
        "outputId": "28fb3264-7cf8-4f1c-9ea7-bd73918d350a"
      },
      "execution_count": 13,
      "outputs": [
        {
          "output_type": "stream",
          "name": "stderr",
          "text": [
            "Generating embeddings: 100%|██████████| 16/16 [00:06<00:00,  2.47it/s]\n",
            "Computing similarity: 100%|██████████| 1000/1000 [04:19<00:00,  3.86it/s]\n",
            "Generating embeddings: 100%|██████████| 16/16 [00:05<00:00,  2.77it/s]\n",
            "Computing similarity: 100%|██████████| 1000/1000 [04:20<00:00,  3.84it/s]\n"
          ]
        },
        {
          "output_type": "stream",
          "name": "stdout",
          "text": [
            "0 0\n"
          ]
        }
      ]
    },
    {
      "cell_type": "code",
      "execution_count": 14,
      "metadata": {
        "colab": {
          "base_uri": "https://localhost:8080/",
          "height": 400
        },
        "id": "OvlhfcjwKNVS",
        "outputId": "da74e69f-1303-4124-91b5-bfcebd733d9c"
      },
      "outputs": [
        {
          "output_type": "stream",
          "name": "stderr",
          "text": [
            "Generating embeddings: 100%|██████████| 958/958 [05:38<00:00,  2.83it/s]\n",
            "Computing similarity:   0%|          | 1/61249 [00:56<968:38:54, 56.93s/it]\n"
          ]
        },
        {
          "output_type": "error",
          "ename": "KeyboardInterrupt",
          "evalue": "",
          "traceback": [
            "\u001b[0;31m---------------------------------------------------------------------------\u001b[0m",
            "\u001b[0;31mKeyboardInterrupt\u001b[0m                         Traceback (most recent call last)",
            "\u001b[0;32m<ipython-input-14-8400a2f347d9>\u001b[0m in \u001b[0;36m<cell line: 1>\u001b[0;34m()\u001b[0m\n\u001b[0;32m----> 1\u001b[0;31m \u001b[0mpubmedqa2\u001b[0m\u001b[0;34m,\u001b[0m \u001b[0mremoved_questions\u001b[0m\u001b[0;34m,\u001b[0m \u001b[0mremoved_answers\u001b[0m \u001b[0;34m=\u001b[0m \u001b[0mdeduplication_within_dataset_qa\u001b[0m\u001b[0;34m(\u001b[0m\u001b[0mpubmedqa2\u001b[0m\u001b[0;34m)\u001b[0m\u001b[0;34m\u001b[0m\u001b[0;34m\u001b[0m\u001b[0m\n\u001b[0m\u001b[1;32m      2\u001b[0m \u001b[0mprint\u001b[0m\u001b[0;34m(\u001b[0m\u001b[0mlen\u001b[0m\u001b[0;34m(\u001b[0m\u001b[0mremoved_questions\u001b[0m\u001b[0;34m)\u001b[0m\u001b[0;34m,\u001b[0m \u001b[0mlen\u001b[0m\u001b[0;34m(\u001b[0m\u001b[0mremoved_answers\u001b[0m\u001b[0;34m)\u001b[0m\u001b[0;34m)\u001b[0m\u001b[0;34m\u001b[0m\u001b[0;34m\u001b[0m\u001b[0m\n\u001b[1;32m      3\u001b[0m \u001b[0;34m\u001b[0m\u001b[0m\n\u001b[1;32m      4\u001b[0m \u001b[0mpubmedqa2\u001b[0m\u001b[0;34m.\u001b[0m\u001b[0mto_csv\u001b[0m\u001b[0;34m(\u001b[0m\u001b[0;34m\"../deduplicated_data/QAs/PubMedQA/ori_pqau_deduplicated.csv\"\u001b[0m\u001b[0;34m,\u001b[0m \u001b[0mindex\u001b[0m \u001b[0;34m=\u001b[0m \u001b[0;32mFalse\u001b[0m\u001b[0;34m)\u001b[0m\u001b[0;34m\u001b[0m\u001b[0;34m\u001b[0m\u001b[0m\n\u001b[1;32m      5\u001b[0m \u001b[0;34m\u001b[0m\u001b[0m\n",
            "\u001b[0;32m<ipython-input-8-28a6f7eebc01>\u001b[0m in \u001b[0;36mdeduplication_within_dataset_qa\u001b[0;34m(dataset, threshold)\u001b[0m\n\u001b[1;32m     31\u001b[0m \u001b[0;34m\u001b[0m\u001b[0m\n\u001b[1;32m     32\u001b[0m     \u001b[0mquestion_embeddings\u001b[0m \u001b[0;34m=\u001b[0m \u001b[0mget_embeddings\u001b[0m\u001b[0;34m(\u001b[0m\u001b[0mquestions\u001b[0m\u001b[0;34m)\u001b[0m\u001b[0;34m\u001b[0m\u001b[0;34m\u001b[0m\u001b[0m\n\u001b[0;32m---> 33\u001b[0;31m     \u001b[0mto_remove_questions\u001b[0m \u001b[0;34m=\u001b[0m \u001b[0mcompute_similarity\u001b[0m\u001b[0;34m(\u001b[0m\u001b[0mquestion_embeddings\u001b[0m\u001b[0;34m,\u001b[0m \u001b[0mthreshold\u001b[0m\u001b[0;34m)\u001b[0m\u001b[0;34m\u001b[0m\u001b[0;34m\u001b[0m\u001b[0m\n\u001b[0m\u001b[1;32m     34\u001b[0m \u001b[0;34m\u001b[0m\u001b[0m\n\u001b[1;32m     35\u001b[0m     \u001b[0mnew_dataset\u001b[0m \u001b[0;34m=\u001b[0m \u001b[0mdataset\u001b[0m\u001b[0;34m.\u001b[0m\u001b[0mdrop\u001b[0m\u001b[0;34m(\u001b[0m\u001b[0mindex\u001b[0m \u001b[0;34m=\u001b[0m \u001b[0mlist\u001b[0m\u001b[0;34m(\u001b[0m\u001b[0mto_remove_questions\u001b[0m\u001b[0;34m)\u001b[0m\u001b[0;34m)\u001b[0m\u001b[0;34m.\u001b[0m\u001b[0mreset_index\u001b[0m\u001b[0;34m(\u001b[0m\u001b[0mdrop\u001b[0m\u001b[0;34m=\u001b[0m\u001b[0;32mTrue\u001b[0m\u001b[0;34m)\u001b[0m\u001b[0;34m\u001b[0m\u001b[0;34m\u001b[0m\u001b[0m\n",
            "\u001b[0;32m<ipython-input-8-28a6f7eebc01>\u001b[0m in \u001b[0;36mcompute_similarity\u001b[0;34m(embeddings, threshold)\u001b[0m\n\u001b[1;32m     12\u001b[0m     \u001b[0;32mfor\u001b[0m \u001b[0mi\u001b[0m \u001b[0;32min\u001b[0m \u001b[0mtqdm\u001b[0m\u001b[0;34m(\u001b[0m\u001b[0mrange\u001b[0m\u001b[0;34m(\u001b[0m\u001b[0mn\u001b[0m\u001b[0;34m)\u001b[0m\u001b[0;34m,\u001b[0m \u001b[0mdesc\u001b[0m \u001b[0;34m=\u001b[0m \u001b[0;34m\"Computing similarity\"\u001b[0m\u001b[0;34m)\u001b[0m\u001b[0;34m:\u001b[0m\u001b[0;34m\u001b[0m\u001b[0;34m\u001b[0m\u001b[0m\n\u001b[1;32m     13\u001b[0m         \u001b[0;32mfor\u001b[0m \u001b[0mj\u001b[0m \u001b[0;32min\u001b[0m \u001b[0mrange\u001b[0m\u001b[0;34m(\u001b[0m\u001b[0mi\u001b[0m\u001b[0;34m+\u001b[0m\u001b[0;36m1\u001b[0m\u001b[0;34m,\u001b[0m \u001b[0mn\u001b[0m\u001b[0;34m)\u001b[0m\u001b[0;34m:\u001b[0m\u001b[0;34m\u001b[0m\u001b[0;34m\u001b[0m\u001b[0m\n\u001b[0;32m---> 14\u001b[0;31m             \u001b[0msim\u001b[0m \u001b[0;34m=\u001b[0m \u001b[0mcosine_similarity\u001b[0m\u001b[0;34m(\u001b[0m\u001b[0membeddings\u001b[0m\u001b[0;34m[\u001b[0m\u001b[0mi\u001b[0m\u001b[0;34m]\u001b[0m\u001b[0;34m.\u001b[0m\u001b[0mreshape\u001b[0m\u001b[0;34m(\u001b[0m\u001b[0;36m1\u001b[0m\u001b[0;34m,\u001b[0m \u001b[0;34m-\u001b[0m\u001b[0;36m1\u001b[0m\u001b[0;34m)\u001b[0m\u001b[0;34m,\u001b[0m \u001b[0membeddings\u001b[0m\u001b[0;34m[\u001b[0m\u001b[0mj\u001b[0m\u001b[0;34m]\u001b[0m\u001b[0;34m.\u001b[0m\u001b[0mreshape\u001b[0m\u001b[0;34m(\u001b[0m\u001b[0;36m1\u001b[0m\u001b[0;34m,\u001b[0m \u001b[0;34m-\u001b[0m\u001b[0;36m1\u001b[0m\u001b[0;34m)\u001b[0m\u001b[0;34m)\u001b[0m\u001b[0;34m[\u001b[0m\u001b[0;36m0\u001b[0m\u001b[0;34m]\u001b[0m\u001b[0;34m[\u001b[0m\u001b[0;36m0\u001b[0m\u001b[0;34m]\u001b[0m\u001b[0;34m\u001b[0m\u001b[0;34m\u001b[0m\u001b[0m\n\u001b[0m\u001b[1;32m     15\u001b[0m             \u001b[0;32mif\u001b[0m \u001b[0msim\u001b[0m \u001b[0;34m>\u001b[0m \u001b[0mthreshold\u001b[0m\u001b[0;34m:\u001b[0m\u001b[0;34m\u001b[0m\u001b[0;34m\u001b[0m\u001b[0m\n\u001b[1;32m     16\u001b[0m                 \u001b[0mto_remove\u001b[0m\u001b[0;34m.\u001b[0m\u001b[0madd\u001b[0m\u001b[0;34m(\u001b[0m\u001b[0mj\u001b[0m\u001b[0;34m)\u001b[0m\u001b[0;34m\u001b[0m\u001b[0;34m\u001b[0m\u001b[0m\n",
            "\u001b[0;32m/usr/local/lib/python3.10/dist-packages/sklearn/utils/_param_validation.py\u001b[0m in \u001b[0;36mwrapper\u001b[0;34m(*args, **kwargs)\u001b[0m\n\u001b[1;32m    211\u001b[0m                     )\n\u001b[1;32m    212\u001b[0m                 ):\n\u001b[0;32m--> 213\u001b[0;31m                     \u001b[0;32mreturn\u001b[0m \u001b[0mfunc\u001b[0m\u001b[0;34m(\u001b[0m\u001b[0;34m*\u001b[0m\u001b[0margs\u001b[0m\u001b[0;34m,\u001b[0m \u001b[0;34m**\u001b[0m\u001b[0mkwargs\u001b[0m\u001b[0;34m)\u001b[0m\u001b[0;34m\u001b[0m\u001b[0;34m\u001b[0m\u001b[0m\n\u001b[0m\u001b[1;32m    214\u001b[0m             \u001b[0;32mexcept\u001b[0m \u001b[0mInvalidParameterError\u001b[0m \u001b[0;32mas\u001b[0m \u001b[0me\u001b[0m\u001b[0;34m:\u001b[0m\u001b[0;34m\u001b[0m\u001b[0;34m\u001b[0m\u001b[0m\n\u001b[1;32m    215\u001b[0m                 \u001b[0;31m# When the function is just a wrapper around an estimator, we allow\u001b[0m\u001b[0;34m\u001b[0m\u001b[0;34m\u001b[0m\u001b[0m\n",
            "\u001b[0;32m/usr/local/lib/python3.10/dist-packages/sklearn/metrics/pairwise.py\u001b[0m in \u001b[0;36mcosine_similarity\u001b[0;34m(X, Y, dense_output)\u001b[0m\n\u001b[1;32m   1683\u001b[0m         \u001b[0mY_normalized\u001b[0m \u001b[0;34m=\u001b[0m \u001b[0mX_normalized\u001b[0m\u001b[0;34m\u001b[0m\u001b[0;34m\u001b[0m\u001b[0m\n\u001b[1;32m   1684\u001b[0m     \u001b[0;32melse\u001b[0m\u001b[0;34m:\u001b[0m\u001b[0;34m\u001b[0m\u001b[0;34m\u001b[0m\u001b[0m\n\u001b[0;32m-> 1685\u001b[0;31m         \u001b[0mY_normalized\u001b[0m \u001b[0;34m=\u001b[0m \u001b[0mnormalize\u001b[0m\u001b[0;34m(\u001b[0m\u001b[0mY\u001b[0m\u001b[0;34m,\u001b[0m \u001b[0mcopy\u001b[0m\u001b[0;34m=\u001b[0m\u001b[0;32mTrue\u001b[0m\u001b[0;34m)\u001b[0m\u001b[0;34m\u001b[0m\u001b[0;34m\u001b[0m\u001b[0m\n\u001b[0m\u001b[1;32m   1686\u001b[0m \u001b[0;34m\u001b[0m\u001b[0m\n\u001b[1;32m   1687\u001b[0m     \u001b[0mK\u001b[0m \u001b[0;34m=\u001b[0m \u001b[0msafe_sparse_dot\u001b[0m\u001b[0;34m(\u001b[0m\u001b[0mX_normalized\u001b[0m\u001b[0;34m,\u001b[0m \u001b[0mY_normalized\u001b[0m\u001b[0;34m.\u001b[0m\u001b[0mT\u001b[0m\u001b[0;34m,\u001b[0m \u001b[0mdense_output\u001b[0m\u001b[0;34m=\u001b[0m\u001b[0mdense_output\u001b[0m\u001b[0;34m)\u001b[0m\u001b[0;34m\u001b[0m\u001b[0;34m\u001b[0m\u001b[0m\n",
            "\u001b[0;32m/usr/local/lib/python3.10/dist-packages/sklearn/utils/_param_validation.py\u001b[0m in \u001b[0;36mwrapper\u001b[0;34m(*args, **kwargs)\u001b[0m\n\u001b[1;32m    184\u001b[0m             \u001b[0mglobal_skip_validation\u001b[0m \u001b[0;34m=\u001b[0m \u001b[0mget_config\u001b[0m\u001b[0;34m(\u001b[0m\u001b[0;34m)\u001b[0m\u001b[0;34m[\u001b[0m\u001b[0;34m\"skip_parameter_validation\"\u001b[0m\u001b[0;34m]\u001b[0m\u001b[0;34m\u001b[0m\u001b[0;34m\u001b[0m\u001b[0m\n\u001b[1;32m    185\u001b[0m             \u001b[0;32mif\u001b[0m \u001b[0mglobal_skip_validation\u001b[0m\u001b[0;34m:\u001b[0m\u001b[0;34m\u001b[0m\u001b[0;34m\u001b[0m\u001b[0m\n\u001b[0;32m--> 186\u001b[0;31m                 \u001b[0;32mreturn\u001b[0m \u001b[0mfunc\u001b[0m\u001b[0;34m(\u001b[0m\u001b[0;34m*\u001b[0m\u001b[0margs\u001b[0m\u001b[0;34m,\u001b[0m \u001b[0;34m**\u001b[0m\u001b[0mkwargs\u001b[0m\u001b[0;34m)\u001b[0m\u001b[0;34m\u001b[0m\u001b[0;34m\u001b[0m\u001b[0m\n\u001b[0m\u001b[1;32m    187\u001b[0m \u001b[0;34m\u001b[0m\u001b[0m\n\u001b[1;32m    188\u001b[0m             \u001b[0mfunc_sig\u001b[0m \u001b[0;34m=\u001b[0m \u001b[0msignature\u001b[0m\u001b[0;34m(\u001b[0m\u001b[0mfunc\u001b[0m\u001b[0;34m)\u001b[0m\u001b[0;34m\u001b[0m\u001b[0;34m\u001b[0m\u001b[0m\n",
            "\u001b[0;32m/usr/local/lib/python3.10/dist-packages/sklearn/preprocessing/_data.py\u001b[0m in \u001b[0;36mnormalize\u001b[0;34m(X, norm, axis, copy, return_norm)\u001b[0m\n\u001b[1;32m   1931\u001b[0m     \u001b[0mxp\u001b[0m\u001b[0;34m,\u001b[0m \u001b[0m_\u001b[0m \u001b[0;34m=\u001b[0m \u001b[0mget_namespace\u001b[0m\u001b[0;34m(\u001b[0m\u001b[0mX\u001b[0m\u001b[0;34m)\u001b[0m\u001b[0;34m\u001b[0m\u001b[0;34m\u001b[0m\u001b[0m\n\u001b[1;32m   1932\u001b[0m \u001b[0;34m\u001b[0m\u001b[0m\n\u001b[0;32m-> 1933\u001b[0;31m     X = check_array(\n\u001b[0m\u001b[1;32m   1934\u001b[0m         \u001b[0mX\u001b[0m\u001b[0;34m,\u001b[0m\u001b[0;34m\u001b[0m\u001b[0;34m\u001b[0m\u001b[0m\n\u001b[1;32m   1935\u001b[0m         \u001b[0maccept_sparse\u001b[0m\u001b[0;34m=\u001b[0m\u001b[0msparse_format\u001b[0m\u001b[0;34m,\u001b[0m\u001b[0;34m\u001b[0m\u001b[0;34m\u001b[0m\u001b[0m\n",
            "\u001b[0;32m/usr/local/lib/python3.10/dist-packages/sklearn/utils/validation.py\u001b[0m in \u001b[0;36mcheck_array\u001b[0;34m(array, accept_sparse, accept_large_sparse, dtype, order, copy, force_writeable, force_all_finite, ensure_2d, allow_nd, ensure_min_samples, ensure_min_features, estimator, input_name)\u001b[0m\n\u001b[1;32m   1062\u001b[0m \u001b[0;34m\u001b[0m\u001b[0m\n\u001b[1;32m   1063\u001b[0m         \u001b[0;32mif\u001b[0m \u001b[0mforce_all_finite\u001b[0m\u001b[0;34m:\u001b[0m\u001b[0;34m\u001b[0m\u001b[0;34m\u001b[0m\u001b[0m\n\u001b[0;32m-> 1064\u001b[0;31m             _assert_all_finite(\n\u001b[0m\u001b[1;32m   1065\u001b[0m                 \u001b[0marray\u001b[0m\u001b[0;34m,\u001b[0m\u001b[0;34m\u001b[0m\u001b[0;34m\u001b[0m\u001b[0m\n\u001b[1;32m   1066\u001b[0m                 \u001b[0minput_name\u001b[0m\u001b[0;34m=\u001b[0m\u001b[0minput_name\u001b[0m\u001b[0;34m,\u001b[0m\u001b[0;34m\u001b[0m\u001b[0;34m\u001b[0m\u001b[0m\n",
            "\u001b[0;32m/usr/local/lib/python3.10/dist-packages/sklearn/utils/validation.py\u001b[0m in \u001b[0;36m_assert_all_finite\u001b[0;34m(X, allow_nan, msg_dtype, estimator_name, input_name)\u001b[0m\n\u001b[1;32m    116\u001b[0m     \u001b[0;31m# Cython implementation to prevent false positives and provide a detailed\u001b[0m\u001b[0;34m\u001b[0m\u001b[0;34m\u001b[0m\u001b[0m\n\u001b[1;32m    117\u001b[0m     \u001b[0;31m# error message.\u001b[0m\u001b[0;34m\u001b[0m\u001b[0;34m\u001b[0m\u001b[0m\n\u001b[0;32m--> 118\u001b[0;31m     \u001b[0;32mwith\u001b[0m \u001b[0mnp\u001b[0m\u001b[0;34m.\u001b[0m\u001b[0merrstate\u001b[0m\u001b[0;34m(\u001b[0m\u001b[0mover\u001b[0m\u001b[0;34m=\u001b[0m\u001b[0;34m\"ignore\"\u001b[0m\u001b[0;34m)\u001b[0m\u001b[0;34m:\u001b[0m\u001b[0;34m\u001b[0m\u001b[0;34m\u001b[0m\u001b[0m\n\u001b[0m\u001b[1;32m    119\u001b[0m         \u001b[0mfirst_pass_isfinite\u001b[0m \u001b[0;34m=\u001b[0m \u001b[0mxp\u001b[0m\u001b[0;34m.\u001b[0m\u001b[0misfinite\u001b[0m\u001b[0;34m(\u001b[0m\u001b[0mxp\u001b[0m\u001b[0;34m.\u001b[0m\u001b[0msum\u001b[0m\u001b[0;34m(\u001b[0m\u001b[0mX\u001b[0m\u001b[0;34m)\u001b[0m\u001b[0;34m)\u001b[0m\u001b[0;34m\u001b[0m\u001b[0;34m\u001b[0m\u001b[0m\n\u001b[1;32m    120\u001b[0m     \u001b[0;32mif\u001b[0m \u001b[0mfirst_pass_isfinite\u001b[0m\u001b[0;34m:\u001b[0m\u001b[0;34m\u001b[0m\u001b[0;34m\u001b[0m\u001b[0m\n",
            "\u001b[0;32m/usr/local/lib/python3.10/dist-packages/numpy/core/_ufunc_config.py\u001b[0m in \u001b[0;36m__exit__\u001b[0;34m(self, *exc_info)\u001b[0m\n\u001b[1;32m    434\u001b[0m \u001b[0;34m\u001b[0m\u001b[0m\n\u001b[1;32m    435\u001b[0m     \u001b[0;32mdef\u001b[0m \u001b[0m__exit__\u001b[0m\u001b[0;34m(\u001b[0m\u001b[0mself\u001b[0m\u001b[0;34m,\u001b[0m \u001b[0;34m*\u001b[0m\u001b[0mexc_info\u001b[0m\u001b[0;34m)\u001b[0m\u001b[0;34m:\u001b[0m\u001b[0;34m\u001b[0m\u001b[0;34m\u001b[0m\u001b[0m\n\u001b[0;32m--> 436\u001b[0;31m         \u001b[0mseterr\u001b[0m\u001b[0;34m(\u001b[0m\u001b[0;34m**\u001b[0m\u001b[0mself\u001b[0m\u001b[0;34m.\u001b[0m\u001b[0moldstate\u001b[0m\u001b[0;34m)\u001b[0m\u001b[0;34m\u001b[0m\u001b[0;34m\u001b[0m\u001b[0m\n\u001b[0m\u001b[1;32m    437\u001b[0m         \u001b[0;32mif\u001b[0m \u001b[0mself\u001b[0m\u001b[0;34m.\u001b[0m\u001b[0mcall\u001b[0m \u001b[0;32mis\u001b[0m \u001b[0;32mnot\u001b[0m \u001b[0m_Unspecified\u001b[0m\u001b[0;34m:\u001b[0m\u001b[0;34m\u001b[0m\u001b[0;34m\u001b[0m\u001b[0m\n\u001b[1;32m    438\u001b[0m             \u001b[0mseterrcall\u001b[0m\u001b[0;34m(\u001b[0m\u001b[0mself\u001b[0m\u001b[0;34m.\u001b[0m\u001b[0moldcall\u001b[0m\u001b[0;34m)\u001b[0m\u001b[0;34m\u001b[0m\u001b[0;34m\u001b[0m\u001b[0m\n",
            "\u001b[0;32m/usr/local/lib/python3.10/dist-packages/numpy/core/_ufunc_config.py\u001b[0m in \u001b[0;36mseterr\u001b[0;34m(all, divide, over, under, invalid)\u001b[0m\n\u001b[1;32m    113\u001b[0m     \u001b[0;32mif\u001b[0m \u001b[0mdivide\u001b[0m \u001b[0;32mis\u001b[0m \u001b[0;32mNone\u001b[0m\u001b[0;34m:\u001b[0m\u001b[0;34m\u001b[0m\u001b[0;34m\u001b[0m\u001b[0m\n\u001b[1;32m    114\u001b[0m         \u001b[0mdivide\u001b[0m \u001b[0;34m=\u001b[0m \u001b[0mall\u001b[0m \u001b[0;32mor\u001b[0m \u001b[0mold\u001b[0m\u001b[0;34m[\u001b[0m\u001b[0;34m'divide'\u001b[0m\u001b[0;34m]\u001b[0m\u001b[0;34m\u001b[0m\u001b[0;34m\u001b[0m\u001b[0m\n\u001b[0;32m--> 115\u001b[0;31m     \u001b[0;32mif\u001b[0m \u001b[0mover\u001b[0m \u001b[0;32mis\u001b[0m \u001b[0;32mNone\u001b[0m\u001b[0;34m:\u001b[0m\u001b[0;34m\u001b[0m\u001b[0;34m\u001b[0m\u001b[0m\n\u001b[0m\u001b[1;32m    116\u001b[0m         \u001b[0mover\u001b[0m \u001b[0;34m=\u001b[0m \u001b[0mall\u001b[0m \u001b[0;32mor\u001b[0m \u001b[0mold\u001b[0m\u001b[0;34m[\u001b[0m\u001b[0;34m'over'\u001b[0m\u001b[0;34m]\u001b[0m\u001b[0;34m\u001b[0m\u001b[0;34m\u001b[0m\u001b[0m\n\u001b[1;32m    117\u001b[0m     \u001b[0;32mif\u001b[0m \u001b[0munder\u001b[0m \u001b[0;32mis\u001b[0m \u001b[0;32mNone\u001b[0m\u001b[0;34m:\u001b[0m\u001b[0;34m\u001b[0m\u001b[0;34m\u001b[0m\u001b[0m\n",
            "\u001b[0;31mKeyboardInterrupt\u001b[0m: "
          ]
        }
      ],
      "source": [
        "pubmedqa2, removed_questions, removed_answers = deduplication_within_dataset_qa(pubmedqa2)\n",
        "print(len(removed_questions), len(removed_answers))\n",
        "\n",
        "pubmedqa2.to_csv(\"../deduplicated_data/QAs/PubMedQA/ori_pqau_deduplicated.csv\", index = False)\n",
        "\n"
      ]
    },
    {
      "cell_type": "code",
      "execution_count": 15,
      "metadata": {
        "id": "VQ_Xj2q9KNVS"
      },
      "outputs": [],
      "source": [
        "pubmedqa3.to_csv(\"../deduplicated_data/QAs/PubMedQA/ori_pqal_deduplicated.csv\", index = False)"
      ]
    },
    {
      "cell_type": "code",
      "source": [
        "# filter between sample\n",
        "deduplicated_medicationqa = pd.read_csv(\"../deduplicated_data/QAs/MedicationQA/medicationqa_train_fulltext_deduplicated.csv\")"
      ],
      "metadata": {
        "id": "AiG-D0iqR_C6"
      },
      "execution_count": 16,
      "outputs": []
    },
    {
      "cell_type": "code",
      "source": [
        "# deduplicate across datasets\n",
        "test_deduplicated_qa, removed_questions, removed_answers = deduplicate_across_datasets_qa([deduplicated_medicationqa], pubmedqa3)"
      ],
      "metadata": {
        "colab": {
          "base_uri": "https://localhost:8080/"
        },
        "id": "Fhf7VSnBSOhu",
        "outputId": "bcf8d3b7-0070-4364-a088-f25ad4e0a6ae"
      },
      "execution_count": 18,
      "outputs": [
        {
          "output_type": "stream",
          "name": "stderr",
          "text": [
            "Generating embeddings: 100%|██████████| 10/10 [00:03<00:00,  3.16it/s]\n",
            "Generating embeddings: 100%|██████████| 10/10 [00:03<00:00,  2.78it/s]\n",
            "Generating embeddings: 100%|██████████| 16/16 [00:05<00:00,  2.81it/s]\n",
            "Generating embeddings: 100%|██████████| 16/16 [00:05<00:00,  2.72it/s]\n",
            "Computing similarity: 100%|██████████| 1000/1000 [05:08<00:00,  3.24it/s]\n",
            "Computing similarity: 100%|██████████| 1000/1000 [05:08<00:00,  3.24it/s]\n"
          ]
        }
      ]
    },
    {
      "cell_type": "code",
      "source": [
        "test_deduplicated_qa.head()"
      ],
      "metadata": {
        "colab": {
          "base_uri": "https://localhost:8080/",
          "height": 362
        },
        "id": "x2f01JsFVOkF",
        "outputId": "42570e98-bda9-4ef4-a9d1-4c2d68e3618e"
      },
      "execution_count": 23,
      "outputs": [
        {
          "output_type": "execute_result",
          "data": {
            "text/plain": [
              "                                            question  \\\n",
              "0  Do mitochondria play a role in remodelling lac...   \n",
              "1  Landolt C and snellen e acuity: differences in...   \n",
              "2  Syncope during bathing in infants, a pediatric...   \n",
              "3  Are the long-term results of the transanal pul...   \n",
              "4  Can tailored interventions increase mammograph...   \n",
              "\n",
              "                                            CONTEXTS  \\\n",
              "0  [Programmed cell death (PCD) is the regulated ...   \n",
              "1  [Assessment of visual acuity depends on the op...   \n",
              "2  [Apparent life-threatening events in infants a...   \n",
              "3  [The transanal endorectal pull-through (TERPT)...   \n",
              "4  [Telephone counseling and tailored print commu...   \n",
              "\n",
              "                                              LABELS  \\\n",
              "0                              [BACKGROUND, RESULTS]   \n",
              "1        [BACKGROUND, PATIENTS AND METHODS, RESULTS]   \n",
              "2                         [BACKGROUND, CASE REPORTS]   \n",
              "3                        [PURPOSE, METHODS, RESULTS]   \n",
              "4  [BACKGROUND, DESIGN, PARTICIPANTS, INTERVENTIO...   \n",
              "\n",
              "                                              MESHES  YEAR  \\\n",
              "0  [Alismataceae, Apoptosis, Cell Differentiation...  2011   \n",
              "1  [Adolescent, Adult, Aged, Aged, 80 and over, A...  2006   \n",
              "2  [Baths, Histamine, Humans, Infant, Syncope, Ur...  1997   \n",
              "3  [Child, Child, Preschool, Colectomy, Female, H...  2007   \n",
              "4  [Cost-Benefit Analysis, Female, Health Mainten...  2000   \n",
              "\n",
              "  reasoning_required_pred reasoning_free_pred final_decision  \\\n",
              "0                     yes                 yes            yes   \n",
              "1                      no                  no             no   \n",
              "2                     yes                 yes            yes   \n",
              "3                     yes                  no             no   \n",
              "4                     yes                  no            yes   \n",
              "\n",
              "                                              answer  \n",
              "0  Results depicted mitochondrial dynamics in viv...  \n",
              "1  Using the charts described, there was only a s...  \n",
              "2  \"Aquagenic maladies\" could be a pediatric form...  \n",
              "3  Our long-term study showed significantly bette...  \n",
              "4  The effects of the intervention were most pron...  "
            ],
            "text/html": [
              "\n",
              "  <div id=\"df-4320ee8d-bc6a-47c1-82de-de4b84d9a1d3\" class=\"colab-df-container\">\n",
              "    <div>\n",
              "<style scoped>\n",
              "    .dataframe tbody tr th:only-of-type {\n",
              "        vertical-align: middle;\n",
              "    }\n",
              "\n",
              "    .dataframe tbody tr th {\n",
              "        vertical-align: top;\n",
              "    }\n",
              "\n",
              "    .dataframe thead th {\n",
              "        text-align: right;\n",
              "    }\n",
              "</style>\n",
              "<table border=\"1\" class=\"dataframe\">\n",
              "  <thead>\n",
              "    <tr style=\"text-align: right;\">\n",
              "      <th></th>\n",
              "      <th>question</th>\n",
              "      <th>CONTEXTS</th>\n",
              "      <th>LABELS</th>\n",
              "      <th>MESHES</th>\n",
              "      <th>YEAR</th>\n",
              "      <th>reasoning_required_pred</th>\n",
              "      <th>reasoning_free_pred</th>\n",
              "      <th>final_decision</th>\n",
              "      <th>answer</th>\n",
              "    </tr>\n",
              "  </thead>\n",
              "  <tbody>\n",
              "    <tr>\n",
              "      <th>0</th>\n",
              "      <td>Do mitochondria play a role in remodelling lac...</td>\n",
              "      <td>[Programmed cell death (PCD) is the regulated ...</td>\n",
              "      <td>[BACKGROUND, RESULTS]</td>\n",
              "      <td>[Alismataceae, Apoptosis, Cell Differentiation...</td>\n",
              "      <td>2011</td>\n",
              "      <td>yes</td>\n",
              "      <td>yes</td>\n",
              "      <td>yes</td>\n",
              "      <td>Results depicted mitochondrial dynamics in viv...</td>\n",
              "    </tr>\n",
              "    <tr>\n",
              "      <th>1</th>\n",
              "      <td>Landolt C and snellen e acuity: differences in...</td>\n",
              "      <td>[Assessment of visual acuity depends on the op...</td>\n",
              "      <td>[BACKGROUND, PATIENTS AND METHODS, RESULTS]</td>\n",
              "      <td>[Adolescent, Adult, Aged, Aged, 80 and over, A...</td>\n",
              "      <td>2006</td>\n",
              "      <td>no</td>\n",
              "      <td>no</td>\n",
              "      <td>no</td>\n",
              "      <td>Using the charts described, there was only a s...</td>\n",
              "    </tr>\n",
              "    <tr>\n",
              "      <th>2</th>\n",
              "      <td>Syncope during bathing in infants, a pediatric...</td>\n",
              "      <td>[Apparent life-threatening events in infants a...</td>\n",
              "      <td>[BACKGROUND, CASE REPORTS]</td>\n",
              "      <td>[Baths, Histamine, Humans, Infant, Syncope, Ur...</td>\n",
              "      <td>1997</td>\n",
              "      <td>yes</td>\n",
              "      <td>yes</td>\n",
              "      <td>yes</td>\n",
              "      <td>\"Aquagenic maladies\" could be a pediatric form...</td>\n",
              "    </tr>\n",
              "    <tr>\n",
              "      <th>3</th>\n",
              "      <td>Are the long-term results of the transanal pul...</td>\n",
              "      <td>[The transanal endorectal pull-through (TERPT)...</td>\n",
              "      <td>[PURPOSE, METHODS, RESULTS]</td>\n",
              "      <td>[Child, Child, Preschool, Colectomy, Female, H...</td>\n",
              "      <td>2007</td>\n",
              "      <td>yes</td>\n",
              "      <td>no</td>\n",
              "      <td>no</td>\n",
              "      <td>Our long-term study showed significantly bette...</td>\n",
              "    </tr>\n",
              "    <tr>\n",
              "      <th>4</th>\n",
              "      <td>Can tailored interventions increase mammograph...</td>\n",
              "      <td>[Telephone counseling and tailored print commu...</td>\n",
              "      <td>[BACKGROUND, DESIGN, PARTICIPANTS, INTERVENTIO...</td>\n",
              "      <td>[Cost-Benefit Analysis, Female, Health Mainten...</td>\n",
              "      <td>2000</td>\n",
              "      <td>yes</td>\n",
              "      <td>no</td>\n",
              "      <td>yes</td>\n",
              "      <td>The effects of the intervention were most pron...</td>\n",
              "    </tr>\n",
              "  </tbody>\n",
              "</table>\n",
              "</div>\n",
              "    <div class=\"colab-df-buttons\">\n",
              "\n",
              "  <div class=\"colab-df-container\">\n",
              "    <button class=\"colab-df-convert\" onclick=\"convertToInteractive('df-4320ee8d-bc6a-47c1-82de-de4b84d9a1d3')\"\n",
              "            title=\"Convert this dataframe to an interactive table.\"\n",
              "            style=\"display:none;\">\n",
              "\n",
              "  <svg xmlns=\"http://www.w3.org/2000/svg\" height=\"24px\" viewBox=\"0 -960 960 960\">\n",
              "    <path d=\"M120-120v-720h720v720H120Zm60-500h600v-160H180v160Zm220 220h160v-160H400v160Zm0 220h160v-160H400v160ZM180-400h160v-160H180v160Zm440 0h160v-160H620v160ZM180-180h160v-160H180v160Zm440 0h160v-160H620v160Z\"/>\n",
              "  </svg>\n",
              "    </button>\n",
              "\n",
              "  <style>\n",
              "    .colab-df-container {\n",
              "      display:flex;\n",
              "      gap: 12px;\n",
              "    }\n",
              "\n",
              "    .colab-df-convert {\n",
              "      background-color: #E8F0FE;\n",
              "      border: none;\n",
              "      border-radius: 50%;\n",
              "      cursor: pointer;\n",
              "      display: none;\n",
              "      fill: #1967D2;\n",
              "      height: 32px;\n",
              "      padding: 0 0 0 0;\n",
              "      width: 32px;\n",
              "    }\n",
              "\n",
              "    .colab-df-convert:hover {\n",
              "      background-color: #E2EBFA;\n",
              "      box-shadow: 0px 1px 2px rgba(60, 64, 67, 0.3), 0px 1px 3px 1px rgba(60, 64, 67, 0.15);\n",
              "      fill: #174EA6;\n",
              "    }\n",
              "\n",
              "    .colab-df-buttons div {\n",
              "      margin-bottom: 4px;\n",
              "    }\n",
              "\n",
              "    [theme=dark] .colab-df-convert {\n",
              "      background-color: #3B4455;\n",
              "      fill: #D2E3FC;\n",
              "    }\n",
              "\n",
              "    [theme=dark] .colab-df-convert:hover {\n",
              "      background-color: #434B5C;\n",
              "      box-shadow: 0px 1px 3px 1px rgba(0, 0, 0, 0.15);\n",
              "      filter: drop-shadow(0px 1px 2px rgba(0, 0, 0, 0.3));\n",
              "      fill: #FFFFFF;\n",
              "    }\n",
              "  </style>\n",
              "\n",
              "    <script>\n",
              "      const buttonEl =\n",
              "        document.querySelector('#df-4320ee8d-bc6a-47c1-82de-de4b84d9a1d3 button.colab-df-convert');\n",
              "      buttonEl.style.display =\n",
              "        google.colab.kernel.accessAllowed ? 'block' : 'none';\n",
              "\n",
              "      async function convertToInteractive(key) {\n",
              "        const element = document.querySelector('#df-4320ee8d-bc6a-47c1-82de-de4b84d9a1d3');\n",
              "        const dataTable =\n",
              "          await google.colab.kernel.invokeFunction('convertToInteractive',\n",
              "                                                    [key], {});\n",
              "        if (!dataTable) return;\n",
              "\n",
              "        const docLinkHtml = 'Like what you see? Visit the ' +\n",
              "          '<a target=\"_blank\" href=https://colab.research.google.com/notebooks/data_table.ipynb>data table notebook</a>'\n",
              "          + ' to learn more about interactive tables.';\n",
              "        element.innerHTML = '';\n",
              "        dataTable['output_type'] = 'display_data';\n",
              "        await google.colab.output.renderOutput(dataTable, element);\n",
              "        const docLink = document.createElement('div');\n",
              "        docLink.innerHTML = docLinkHtml;\n",
              "        element.appendChild(docLink);\n",
              "      }\n",
              "    </script>\n",
              "  </div>\n",
              "\n",
              "\n",
              "<div id=\"df-f2bf495b-f74d-4062-992d-3f7af5587bc0\">\n",
              "  <button class=\"colab-df-quickchart\" onclick=\"quickchart('df-f2bf495b-f74d-4062-992d-3f7af5587bc0')\"\n",
              "            title=\"Suggest charts\"\n",
              "            style=\"display:none;\">\n",
              "\n",
              "<svg xmlns=\"http://www.w3.org/2000/svg\" height=\"24px\"viewBox=\"0 0 24 24\"\n",
              "     width=\"24px\">\n",
              "    <g>\n",
              "        <path d=\"M19 3H5c-1.1 0-2 .9-2 2v14c0 1.1.9 2 2 2h14c1.1 0 2-.9 2-2V5c0-1.1-.9-2-2-2zM9 17H7v-7h2v7zm4 0h-2V7h2v10zm4 0h-2v-4h2v4z\"/>\n",
              "    </g>\n",
              "</svg>\n",
              "  </button>\n",
              "\n",
              "<style>\n",
              "  .colab-df-quickchart {\n",
              "      --bg-color: #E8F0FE;\n",
              "      --fill-color: #1967D2;\n",
              "      --hover-bg-color: #E2EBFA;\n",
              "      --hover-fill-color: #174EA6;\n",
              "      --disabled-fill-color: #AAA;\n",
              "      --disabled-bg-color: #DDD;\n",
              "  }\n",
              "\n",
              "  [theme=dark] .colab-df-quickchart {\n",
              "      --bg-color: #3B4455;\n",
              "      --fill-color: #D2E3FC;\n",
              "      --hover-bg-color: #434B5C;\n",
              "      --hover-fill-color: #FFFFFF;\n",
              "      --disabled-bg-color: #3B4455;\n",
              "      --disabled-fill-color: #666;\n",
              "  }\n",
              "\n",
              "  .colab-df-quickchart {\n",
              "    background-color: var(--bg-color);\n",
              "    border: none;\n",
              "    border-radius: 50%;\n",
              "    cursor: pointer;\n",
              "    display: none;\n",
              "    fill: var(--fill-color);\n",
              "    height: 32px;\n",
              "    padding: 0;\n",
              "    width: 32px;\n",
              "  }\n",
              "\n",
              "  .colab-df-quickchart:hover {\n",
              "    background-color: var(--hover-bg-color);\n",
              "    box-shadow: 0 1px 2px rgba(60, 64, 67, 0.3), 0 1px 3px 1px rgba(60, 64, 67, 0.15);\n",
              "    fill: var(--button-hover-fill-color);\n",
              "  }\n",
              "\n",
              "  .colab-df-quickchart-complete:disabled,\n",
              "  .colab-df-quickchart-complete:disabled:hover {\n",
              "    background-color: var(--disabled-bg-color);\n",
              "    fill: var(--disabled-fill-color);\n",
              "    box-shadow: none;\n",
              "  }\n",
              "\n",
              "  .colab-df-spinner {\n",
              "    border: 2px solid var(--fill-color);\n",
              "    border-color: transparent;\n",
              "    border-bottom-color: var(--fill-color);\n",
              "    animation:\n",
              "      spin 1s steps(1) infinite;\n",
              "  }\n",
              "\n",
              "  @keyframes spin {\n",
              "    0% {\n",
              "      border-color: transparent;\n",
              "      border-bottom-color: var(--fill-color);\n",
              "      border-left-color: var(--fill-color);\n",
              "    }\n",
              "    20% {\n",
              "      border-color: transparent;\n",
              "      border-left-color: var(--fill-color);\n",
              "      border-top-color: var(--fill-color);\n",
              "    }\n",
              "    30% {\n",
              "      border-color: transparent;\n",
              "      border-left-color: var(--fill-color);\n",
              "      border-top-color: var(--fill-color);\n",
              "      border-right-color: var(--fill-color);\n",
              "    }\n",
              "    40% {\n",
              "      border-color: transparent;\n",
              "      border-right-color: var(--fill-color);\n",
              "      border-top-color: var(--fill-color);\n",
              "    }\n",
              "    60% {\n",
              "      border-color: transparent;\n",
              "      border-right-color: var(--fill-color);\n",
              "    }\n",
              "    80% {\n",
              "      border-color: transparent;\n",
              "      border-right-color: var(--fill-color);\n",
              "      border-bottom-color: var(--fill-color);\n",
              "    }\n",
              "    90% {\n",
              "      border-color: transparent;\n",
              "      border-bottom-color: var(--fill-color);\n",
              "    }\n",
              "  }\n",
              "</style>\n",
              "\n",
              "  <script>\n",
              "    async function quickchart(key) {\n",
              "      const quickchartButtonEl =\n",
              "        document.querySelector('#' + key + ' button');\n",
              "      quickchartButtonEl.disabled = true;  // To prevent multiple clicks.\n",
              "      quickchartButtonEl.classList.add('colab-df-spinner');\n",
              "      try {\n",
              "        const charts = await google.colab.kernel.invokeFunction(\n",
              "            'suggestCharts', [key], {});\n",
              "      } catch (error) {\n",
              "        console.error('Error during call to suggestCharts:', error);\n",
              "      }\n",
              "      quickchartButtonEl.classList.remove('colab-df-spinner');\n",
              "      quickchartButtonEl.classList.add('colab-df-quickchart-complete');\n",
              "    }\n",
              "    (() => {\n",
              "      let quickchartButtonEl =\n",
              "        document.querySelector('#df-f2bf495b-f74d-4062-992d-3f7af5587bc0 button');\n",
              "      quickchartButtonEl.style.display =\n",
              "        google.colab.kernel.accessAllowed ? 'block' : 'none';\n",
              "    })();\n",
              "  </script>\n",
              "</div>\n",
              "\n",
              "    </div>\n",
              "  </div>\n"
            ],
            "application/vnd.google.colaboratory.intrinsic+json": {
              "type": "dataframe",
              "variable_name": "test_deduplicated_qa",
              "summary": "{\n  \"name\": \"test_deduplicated_qa\",\n  \"rows\": 1000,\n  \"fields\": [\n    {\n      \"column\": \"question\",\n      \"properties\": {\n        \"dtype\": \"string\",\n        \"num_unique_values\": 1000,\n        \"samples\": [\n          \"Pap smears with glandular cell abnormalities: Are they detected by rapid prescreening?\",\n          \"Are patients with Werlhof's disease at increased risk for bleeding complications when undergoing cardiac surgery?\",\n          \"Is there a connection between sublingual varices and hypertension?\"\n        ],\n        \"semantic_type\": \"\",\n        \"description\": \"\"\n      }\n    },\n    {\n      \"column\": \"CONTEXTS\",\n      \"properties\": {\n        \"dtype\": \"object\",\n        \"semantic_type\": \"\",\n        \"description\": \"\"\n      }\n    },\n    {\n      \"column\": \"LABELS\",\n      \"properties\": {\n        \"dtype\": \"object\",\n        \"semantic_type\": \"\",\n        \"description\": \"\"\n      }\n    },\n    {\n      \"column\": \"MESHES\",\n      \"properties\": {\n        \"dtype\": \"object\",\n        \"semantic_type\": \"\",\n        \"description\": \"\"\n      }\n    },\n    {\n      \"column\": \"YEAR\",\n      \"properties\": {\n        \"dtype\": \"object\",\n        \"num_unique_values\": 28,\n        \"samples\": [\n          \"2014\",\n          \"1990\",\n          \"2008\"\n        ],\n        \"semantic_type\": \"\",\n        \"description\": \"\"\n      }\n    },\n    {\n      \"column\": \"reasoning_required_pred\",\n      \"properties\": {\n        \"dtype\": \"category\",\n        \"num_unique_values\": 3,\n        \"samples\": [\n          \"yes\",\n          \"no\",\n          \"maybe\"\n        ],\n        \"semantic_type\": \"\",\n        \"description\": \"\"\n      }\n    },\n    {\n      \"column\": \"reasoning_free_pred\",\n      \"properties\": {\n        \"dtype\": \"category\",\n        \"num_unique_values\": 3,\n        \"samples\": [\n          \"yes\",\n          \"no\",\n          \"maybe\"\n        ],\n        \"semantic_type\": \"\",\n        \"description\": \"\"\n      }\n    },\n    {\n      \"column\": \"final_decision\",\n      \"properties\": {\n        \"dtype\": \"category\",\n        \"num_unique_values\": 3,\n        \"samples\": [\n          \"yes\",\n          \"no\",\n          \"maybe\"\n        ],\n        \"semantic_type\": \"\",\n        \"description\": \"\"\n      }\n    },\n    {\n      \"column\": \"answer\",\n      \"properties\": {\n        \"dtype\": \"string\",\n        \"num_unique_values\": 1000,\n        \"samples\": [\n          \"Pap smears with glandular cell abnormalities are often flagged as abnormal by RPS, and this results in a sensitivity of 36.4% (at the AGC threshold). Most importantly, some cases of AGC are detected on Pap smears by RPS only, and this demonstrates that RPS is a valuable QA method.\",\n          \"Patients with WD may possibly undergo cardiac surgery without a markedly enhanced risk for bleeding complications despite a more than usual transfusion requirement and significantly lower platelet counts perioperatively.\",\n          \"An association was found between sublingual varices and hypertension. Examining the lateral borders of the tongue is easily done, causes no harm and could be a valuable method for the dental profession to take active part in preventive healthcare.\"\n        ],\n        \"semantic_type\": \"\",\n        \"description\": \"\"\n      }\n    }\n  ]\n}"
            }
          },
          "metadata": {},
          "execution_count": 23
        }
      ]
    },
    {
      "cell_type": "code",
      "source": [
        "threshold = 0.9\n",
        "similarity_scores = []\n",
        "all_questions = pd.concat([deduplicated_medicationqa[\"question\"], pubmedqa3[\"question\"]])\n",
        "question_embeddings = get_embeddings(all_questions.tolist())\n",
        "all_answers = pd.concat([deduplicated_medicationqa[\"answer\"], pubmedqa3[\"answer\"]])\n",
        "answer_embeddings = get_embeddings(all_answers.tolist())\n",
        "\n",
        "for i in range(len(question_embeddings)):\n",
        "    for j in range(i+1, len(question_embeddings)):\n",
        "        similarity_scores.append(cosine_similarity(question_embeddings[i].reshape(1, -1), question_embeddings[j].reshape(1, -1))[0][0])\n",
        "\n",
        "for i in range(len(answer_embeddings)):\n",
        "    for j in range(i+1, len(answer_embeddings)):\n",
        "        similarity_scores.append(cosine_similarity(answer_embeddings[i].reshape(1, -1), answer_embeddings[j].reshape(1, -1))[0][0])"
      ],
      "metadata": {
        "colab": {
          "base_uri": "https://localhost:8080/"
        },
        "id": "ajJBZqPeVijB",
        "outputId": "e04519fc-aa2e-4871-8b98-5ad2cc7b8588"
      },
      "execution_count": 24,
      "outputs": [
        {
          "output_type": "stream",
          "name": "stderr",
          "text": [
            "Generating embeddings: 100%|██████████| 25/25 [00:08<00:00,  2.84it/s]\n",
            "Generating embeddings: 100%|██████████| 25/25 [00:09<00:00,  2.64it/s]\n"
          ]
        }
      ]
    },
    {
      "cell_type": "code",
      "source": [
        "import matplotlib.pyplot as plt\n",
        "\n",
        "plt.hist(similarity_scores, bins=50, alpha=0.7)\n",
        "plt.axvline(x=threshold, color='red', linestyle='--', label='Threshold')\n",
        "plt.title(\"Similarity Score Distribution\")\n",
        "plt.xlabel(\"Cosine Similarity\")\n",
        "plt.ylabel(\"Count\")\n",
        "plt.legend()\n",
        "plt.show()"
      ],
      "metadata": {
        "colab": {
          "base_uri": "https://localhost:8080/",
          "height": 472
        },
        "id": "CWuQ1qq8Vg8u",
        "outputId": "bee967d5-581c-4bb2-d26f-31a0a6160da9"
      },
      "execution_count": 25,
      "outputs": [
        {
          "output_type": "display_data",
          "data": {
            "text/plain": [
              "<Figure size 640x480 with 1 Axes>"
            ],
            "image/png": "[encoded data removed]"
          },
          "metadata": {}
        }
      ]
    },
    {
      "cell_type": "code",
      "source": [
        "# store similarity scores\n",
        "with open(\"similarity_scores.txt\", \"w\") as f:\n",
        "    for score in similarity_scores:\n",
        "        f.write(str(score) + \"\\n\")"
      ],
      "metadata": {
        "id": "FLHxO7ECb3dI"
      },
      "execution_count": 27,
      "outputs": []
    },
    {
      "cell_type": "code",
      "source": [
        "import seaborn as sns\n",
        "import numpy as np\n",
        "\n",
        "sns.heatmap(similarity_matrix, cmap=\"coolwarm\", square=True)\n",
        "plt.title(\"Heatmap of Pairwise Similarity Scores\")\n",
        "plt.show()\n"
      ],
      "metadata": {
        "id": "5ATN4P3EXm8y"
      },
      "execution_count": null,
      "outputs": []
    }
  ],
  "metadata": {
    "kernelspec": {
      "display_name": "Python 3",
      "name": "python3"
    },
    "language_info": {
      "codemirror_mode": {
        "name": "ipython",
        "version": 3
      },
      "file_extension": ".py",
      "mimetype": "text/x-python",
      "name": "python",
      "nbconvert_exporter": "python",
      "pygments_lexer": "ipython3",
      "version": "3.11.5"
    },
    "colab": {
      "provenance": [],
      "machine_shape": "hm",
      "gpuType": "L4"
    },
    "accelerator": "GPU"
  },
  "nbformat": 4,
  "nbformat_minor": 0
}