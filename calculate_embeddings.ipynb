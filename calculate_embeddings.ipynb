{
  "nbformat": 4,
  "nbformat_minor": 0,
  "metadata": {
    "colab": {
      "provenance": [],
      "machine_shape": "hm",
      "gpuType": "L4"
    },
    "kernelspec": {
      "name": "python3",
      "display_name": "Python 3"
    },
    "language_info": {
      "name": "python"
    },
    "accelerator": "GPU"
  },
  "cells": [
    {
      "cell_type": "code",
      "execution_count": 1,
      "metadata": {
        "id": "B9G_f2oMvcoQ"
      },
      "outputs": [],
      "source": [
        "# One run of test to deduplicate the bio_med_research dataset\n",
        "import pandas as pd\n",
        "import os\n",
        "from transformers import AutoTokenizer, AutoModel\n",
        "import torch\n",
        "from sklearn.metrics.pairwise import cosine_similarity\n",
        "import numpy as np\n",
        "# Initialize classifier\n",
        "import xml.etree.ElementTree as ET\n",
        "import json\n",
        "from tqdm import tqdm"
      ]
    },
    {
      "cell_type": "code",
      "source": [
        "# if use colab, run this part\n",
        "from google.colab import drive\n",
        "\n",
        "drive.mount('/content/drive')\n",
        "os.chdir('/content/drive/MyDrive/bionlp')"
      ],
      "metadata": {
        "colab": {
          "base_uri": "https://localhost:8080/"
        },
        "id": "GaVPZGz6wJim",
        "outputId": "9a778783-ab51-4345-88fa-e5a9c45ab32e"
      },
      "execution_count": 2,
      "outputs": [
        {
          "output_type": "stream",
          "name": "stdout",
          "text": [
            "Mounted at /content/drive\n"
          ]
        }
      ]
    },
    {
      "cell_type": "code",
      "source": [
        "# go to model dir\n",
        "os.chdir('MedImageInsights')"
      ],
      "metadata": {
        "id": "HvH8t-JwwK4R"
      },
      "execution_count": 3,
      "outputs": []
    },
    {
      "cell_type": "code",
      "source": [
        "# install necessary package\n",
        "!pip install mup\n",
        "!pip install fvcore"
      ],
      "metadata": {
        "colab": {
          "base_uri": "https://localhost:8080/"
        },
        "id": "X61kv3yEwNUi",
        "outputId": "70cfc503-87f8-4a07-e989-1133c556cbc9"
      },
      "execution_count": 4,
      "outputs": [
        {
          "output_type": "stream",
          "name": "stdout",
          "text": [
            "Collecting mup\n",
            "  Downloading mup-1.0.0.tar.gz (28 kB)\n",
            "  Preparing metadata (setup.py) ... \u001b[?25l\u001b[?25hdone\n",
            "Requirement already satisfied: numpy in /usr/local/lib/python3.10/dist-packages (from mup) (1.26.4)\n",
            "Requirement already satisfied: pandas in /usr/local/lib/python3.10/dist-packages (from mup) (2.2.2)\n",
            "Requirement already satisfied: torch in /usr/local/lib/python3.10/dist-packages (from mup) (2.5.1+cu121)\n",
            "Requirement already satisfied: torchvision in /usr/local/lib/python3.10/dist-packages (from mup) (0.20.1+cu121)\n",
            "Requirement already satisfied: seaborn in /usr/local/lib/python3.10/dist-packages (from mup) (0.13.2)\n",
            "Requirement already satisfied: tqdm in /usr/local/lib/python3.10/dist-packages (from mup) (4.66.6)\n",
            "Requirement already satisfied: pyyaml in /usr/local/lib/python3.10/dist-packages (from mup) (6.0.2)\n",
            "Requirement already satisfied: python-dateutil>=2.8.2 in /usr/local/lib/python3.10/dist-packages (from pandas->mup) (2.8.2)\n",
            "Requirement already satisfied: pytz>=2020.1 in /usr/local/lib/python3.10/dist-packages (from pandas->mup) (2024.2)\n",
            "Requirement already satisfied: tzdata>=2022.7 in /usr/local/lib/python3.10/dist-packages (from pandas->mup) (2024.2)\n",
            "Requirement already satisfied: matplotlib!=3.6.1,>=3.4 in /usr/local/lib/python3.10/dist-packages (from seaborn->mup) (3.8.0)\n",
            "Requirement already satisfied: filelock in /usr/local/lib/python3.10/dist-packages (from torch->mup) (3.16.1)\n",
            "Requirement already satisfied: typing-extensions>=4.8.0 in /usr/local/lib/python3.10/dist-packages (from torch->mup) (4.12.2)\n",
            "Requirement already satisfied: networkx in /usr/local/lib/python3.10/dist-packages (from torch->mup) (3.4.2)\n",
            "Requirement already satisfied: jinja2 in /usr/local/lib/python3.10/dist-packages (from torch->mup) (3.1.4)\n",
            "Requirement already satisfied: fsspec in /usr/local/lib/python3.10/dist-packages (from torch->mup) (2024.10.0)\n",
            "Requirement already satisfied: sympy==1.13.1 in /usr/local/lib/python3.10/dist-packages (from torch->mup) (1.13.1)\n",
            "Requirement already satisfied: mpmath<1.4,>=1.1.0 in /usr/local/lib/python3.10/dist-packages (from sympy==1.13.1->torch->mup) (1.3.0)\n",
            "Requirement already satisfied: pillow!=8.3.*,>=5.3.0 in /usr/local/lib/python3.10/dist-packages (from torchvision->mup) (11.0.0)\n",
            "Requirement already satisfied: contourpy>=1.0.1 in /usr/local/lib/python3.10/dist-packages (from matplotlib!=3.6.1,>=3.4->seaborn->mup) (1.3.1)\n",
            "Requirement already satisfied: cycler>=0.10 in /usr/local/lib/python3.10/dist-packages (from matplotlib!=3.6.1,>=3.4->seaborn->mup) (0.12.1)\n",
            "Requirement already satisfied: fonttools>=4.22.0 in /usr/local/lib/python3.10/dist-packages (from matplotlib!=3.6.1,>=3.4->seaborn->mup) (4.55.3)\n",
            "Requirement already satisfied: kiwisolver>=1.0.1 in /usr/local/lib/python3.10/dist-packages (from matplotlib!=3.6.1,>=3.4->seaborn->mup) (1.4.7)\n",
            "Requirement already satisfied: packaging>=20.0 in /usr/local/lib/python3.10/dist-packages (from matplotlib!=3.6.1,>=3.4->seaborn->mup) (24.2)\n",
            "Requirement already satisfied: pyparsing>=2.3.1 in /usr/local/lib/python3.10/dist-packages (from matplotlib!=3.6.1,>=3.4->seaborn->mup) (3.2.0)\n",
            "Requirement already satisfied: six>=1.5 in /usr/local/lib/python3.10/dist-packages (from python-dateutil>=2.8.2->pandas->mup) (1.17.0)\n",
            "Requirement already satisfied: MarkupSafe>=2.0 in /usr/local/lib/python3.10/dist-packages (from jinja2->torch->mup) (3.0.2)\n",
            "Building wheels for collected packages: mup\n",
            "  Building wheel for mup (setup.py) ... \u001b[?25l\u001b[?25hdone\n",
            "  Created wheel for mup: filename=mup-1.0.0-py3-none-any.whl size=23629 sha256=7d8d2601a791e1855d77bbc0237750f1f07fb72b15a96b25233409a8d954bdf4\n",
            "  Stored in directory: /root/.cache/pip/wheels/f4/c8/88/3c23a3d10c50053b6552d2d30aee5b53ba89a47f742420036c\n",
            "Successfully built mup\n",
            "Installing collected packages: mup\n",
            "Successfully installed mup-1.0.0\n",
            "Collecting fvcore\n",
            "  Downloading fvcore-0.1.5.post20221221.tar.gz (50 kB)\n",
            "\u001b[2K     \u001b[90m━━━━━━━━━━━━━━━━━━━━━━━━━━━━━━━━━━━━━━━━\u001b[0m \u001b[32m50.2/50.2 kB\u001b[0m \u001b[31m2.9 MB/s\u001b[0m eta \u001b[36m0:00:00\u001b[0m\n",
            "\u001b[?25h  Preparing metadata (setup.py) ... \u001b[?25l\u001b[?25hdone\n",
            "Requirement already satisfied: numpy in /usr/local/lib/python3.10/dist-packages (from fvcore) (1.26.4)\n",
            "Collecting yacs>=0.1.6 (from fvcore)\n",
            "  Downloading yacs-0.1.8-py3-none-any.whl.metadata (639 bytes)\n",
            "Requirement already satisfied: pyyaml>=5.1 in /usr/local/lib/python3.10/dist-packages (from fvcore) (6.0.2)\n",
            "Requirement already satisfied: tqdm in /usr/local/lib/python3.10/dist-packages (from fvcore) (4.66.6)\n",
            "Requirement already satisfied: termcolor>=1.1 in /usr/local/lib/python3.10/dist-packages (from fvcore) (2.5.0)\n",
            "Requirement already satisfied: Pillow in /usr/local/lib/python3.10/dist-packages (from fvcore) (11.0.0)\n",
            "Requirement already satisfied: tabulate in /usr/local/lib/python3.10/dist-packages (from fvcore) (0.9.0)\n",
            "Collecting iopath>=0.1.7 (from fvcore)\n",
            "  Downloading iopath-0.1.10.tar.gz (42 kB)\n",
            "\u001b[2K     \u001b[90m━━━━━━━━━━━━━━━━━━━━━━━━━━━━━━━━━━━━━━━━\u001b[0m \u001b[32m42.2/42.2 kB\u001b[0m \u001b[31m4.6 MB/s\u001b[0m eta \u001b[36m0:00:00\u001b[0m\n",
            "\u001b[?25h  Preparing metadata (setup.py) ... \u001b[?25l\u001b[?25hdone\n",
            "Requirement already satisfied: typing_extensions in /usr/local/lib/python3.10/dist-packages (from iopath>=0.1.7->fvcore) (4.12.2)\n",
            "Collecting portalocker (from iopath>=0.1.7->fvcore)\n",
            "  Downloading portalocker-3.0.0-py3-none-any.whl.metadata (8.5 kB)\n",
            "Downloading yacs-0.1.8-py3-none-any.whl (14 kB)\n",
            "Downloading portalocker-3.0.0-py3-none-any.whl (19 kB)\n",
            "Building wheels for collected packages: fvcore, iopath\n",
            "  Building wheel for fvcore (setup.py) ... \u001b[?25l\u001b[?25hdone\n",
            "  Created wheel for fvcore: filename=fvcore-0.1.5.post20221221-py3-none-any.whl size=61396 sha256=e5d4d54bca2f89e310a2a5ac47baabbd86466bbb8b4732093a297a507ae53a3b\n",
            "  Stored in directory: /root/.cache/pip/wheels/01/c0/af/77c1cf53a1be9e42a52b48e5af2169d40ec2e89f7362489dd0\n",
            "  Building wheel for iopath (setup.py) ... \u001b[?25l\u001b[?25hdone\n",
            "  Created wheel for iopath: filename=iopath-0.1.10-py3-none-any.whl size=31528 sha256=95d7bb006bbc6533d13462fcd694a0af3a31d3ebbd70274bf4bcef9dbe808b11\n",
            "  Stored in directory: /root/.cache/pip/wheels/9a/a3/b6/ac0fcd1b4ed5cfeb3db92e6a0e476cfd48ed0df92b91080c1d\n",
            "Successfully built fvcore iopath\n",
            "Installing collected packages: yacs, portalocker, iopath, fvcore\n",
            "Successfully installed fvcore-0.1.5.post20221221 iopath-0.1.10 portalocker-3.0.0 yacs-0.1.8\n"
          ]
        }
      ]
    },
    {
      "cell_type": "code",
      "source": [
        "# load model\n",
        "from medimageinsightmodel import MedImageInsight\n",
        "\n",
        "classifier = MedImageInsight(\n",
        "    model_dir=\"2024.09.27\",\n",
        "    vision_model_name=\"medimageinsigt-v1.0.0.pt\",\n",
        "    language_model_name=\"language_model.pth\"\n",
        ")\n",
        "\n",
        "classifier.load_model()"
      ],
      "metadata": {
        "colab": {
          "base_uri": "https://localhost:8080/"
        },
        "id": "pHm02YctwOcr",
        "outputId": "a8dc857c-abf5-47a4-cc92-264e85e92821"
      },
      "execution_count": 5,
      "outputs": [
        {
          "output_type": "stream",
          "name": "stderr",
          "text": [
            "/usr/local/lib/python3.10/dist-packages/timm/models/layers/__init__.py:48: FutureWarning: Importing from timm.models.layers is deprecated, please import via timm.layers\n",
            "  warnings.warn(f\"Importing from {__name__} is deprecated, please import via timm.layers\", FutureWarning)\n"
          ]
        },
        {
          "output_type": "stream",
          "name": "stdout",
          "text": [
            "Model loaded successfully on device: cuda\n"
          ]
        }
      ]
    },
    {
      "cell_type": "markdown",
      "source": [
        "## Caluclate Existing Embeddings"
      ],
      "metadata": {
        "id": "F-kXMuXDwTOH"
      }
    },
    {
      "cell_type": "code",
      "source": [
        "import os\n",
        "import numpy as np\n",
        "import pickle  # To save/load embeddings efficiently\n",
        "\n",
        "def calculate_and_save_embeddings(dataset, dataset_name, save_dir=\"embeddings_cache\", batch_size=128):\n",
        "    \"\"\"\n",
        "    Compute and save embeddings for a QA dataset.\n",
        "\n",
        "    Args:\n",
        "        dataset (pd.DataFrame): Dataset containing \"question\" and \"answer\" columns.\n",
        "        dataset_name (str): Name of the dataset for unique file identification.\n",
        "        save_dir (str): Directory where embeddings will be saved.\n",
        "        batch_size (int): Batch size for generating embeddings.\n",
        "\n",
        "    Returns:\n",
        "        dict: A dictionary containing question and answer embeddings.\n",
        "    \"\"\"\n",
        "    # Ensure save directory exists\n",
        "    os.makedirs(save_dir, exist_ok=True)\n",
        "\n",
        "    # File paths for embeddings\n",
        "    question_embedding_file = os.path.join(save_dir, f\"{dataset_name}_question_embeddings.pkl\")\n",
        "    answer_embedding_file = os.path.join(save_dir, f\"{dataset_name}_answer_embeddings.pkl\")\n",
        "\n",
        "    # Check if embeddings already exist\n",
        "    if os.path.exists(question_embedding_file) and os.path.exists(answer_embedding_file):\n",
        "        print(f\"Loading cached embeddings for {dataset_name}...\")\n",
        "        with open(question_embedding_file, \"rb\") as qf:\n",
        "            question_embeddings = pickle.load(qf)\n",
        "        with open(answer_embedding_file, \"rb\") as af:\n",
        "            answer_embeddings = pickle.load(af)\n",
        "    else:\n",
        "        # Compute embeddings for questions\n",
        "        print(f\"Generating question embeddings for {dataset_name}...\")\n",
        "        questions = dataset[\"question\"].tolist()\n",
        "        question_embeddings = []\n",
        "        for i in tqdm(range(0, len(questions), batch_size), desc=\"Question Embeddings\"):\n",
        "            batch_questions = questions[i:i + batch_size]\n",
        "            question_embeddings.extend(classifier.encode(texts=batch_questions)[\"text_embeddings\"])\n",
        "        question_embeddings = np.array(question_embeddings)\n",
        "\n",
        "        # Save question embeddings\n",
        "        with open(question_embedding_file, \"wb\") as qf:\n",
        "            pickle.dump(question_embeddings, qf)\n",
        "        print(f\"Saved question embeddings for {dataset_name}.\")\n",
        "\n",
        "        # Compute embeddings for answers\n",
        "        print(f\"Generating answer embeddings for {dataset_name}...\")\n",
        "        answers = dataset[\"answer\"].tolist()\n",
        "        answer_embeddings = []\n",
        "        for i in tqdm(range(0, len(answers), batch_size), desc=\"Answer Embeddings\"):\n",
        "            batch_answers = answers[i:i + batch_size]\n",
        "            answer_embeddings.extend(classifier.encode(texts=batch_answers)[\"text_embeddings\"])\n",
        "        answer_embeddings = np.array(answer_embeddings)\n",
        "\n",
        "        # Save answer embeddings\n",
        "        with open(answer_embedding_file, \"wb\") as af:\n",
        "            pickle.dump(answer_embeddings, af)\n",
        "        print(f\"Saved answer embeddings for {dataset_name}.\")\n",
        "\n",
        "    return {\"questions\": question_embeddings, \"answers\": answer_embeddings}\n"
      ],
      "metadata": {
        "id": "kKK6CLwkwSVF"
      },
      "execution_count": 6,
      "outputs": []
    },
    {
      "cell_type": "code",
      "source": [
        "deduplicated_medmcqa_test = pd.read_csv(\"../deduplicated_data/QAs/MedMCQA/medmcqa_test_fulltext_deduplicated.csv\")"
      ],
      "metadata": {
        "id": "6OCInlGW0Ird"
      },
      "execution_count": null,
      "outputs": []
    },
    {
      "cell_type": "code",
      "source": [
        "calculate_and_save_embeddings(deduplicated_medmcqa_test, \"medmcqa_test\", save_dir=\"../deduplicated_embeddings/QAs\", batch_size=128)"
      ],
      "metadata": {
        "colab": {
          "base_uri": "https://localhost:8080/"
        },
        "id": "OZOuZxcmz8Tz",
        "outputId": "c74869f7-470c-4b6c-8f33-6f75dc1f8580"
      },
      "execution_count": null,
      "outputs": [
        {
          "output_type": "stream",
          "name": "stdout",
          "text": [
            "Generating question embeddings for medmcqa_test...\n"
          ]
        },
        {
          "output_type": "stream",
          "name": "stderr",
          "text": [
            "Question Embeddings: 100%|██████████| 43/43 [00:30<00:00,  1.43it/s]\n"
          ]
        },
        {
          "output_type": "stream",
          "name": "stdout",
          "text": [
            "Saved question embeddings for medmcqa_test.\n",
            "Generating answer embeddings for medmcqa_test...\n"
          ]
        },
        {
          "output_type": "stream",
          "name": "stderr",
          "text": [
            "Answer Embeddings: 100%|██████████| 43/43 [00:29<00:00,  1.44it/s]"
          ]
        },
        {
          "output_type": "stream",
          "name": "stdout",
          "text": [
            "Saved answer embeddings for medmcqa_test.\n"
          ]
        },
        {
          "output_type": "stream",
          "name": "stderr",
          "text": [
            "\n"
          ]
        },
        {
          "output_type": "execute_result",
          "data": {
            "text/plain": [
              "{'questions': array([[ 0.00076395, -0.02654904, -0.03134664, ...,  0.02570958,\n",
              "         -0.00195837, -0.00630343],\n",
              "        [ 0.00524337,  0.033416  ,  0.00307591, ...,  0.04220593,\n",
              "         -0.01449368,  0.0308999 ],\n",
              "        [-0.00434002, -0.02685545,  0.01362809, ...,  0.05724397,\n",
              "         -0.00692272, -0.0030829 ],\n",
              "        ...,\n",
              "        [-0.02461233,  0.01374935, -0.00677833, ..., -0.00967417,\n",
              "         -0.01530647, -0.00684253],\n",
              "        [-0.00531393,  0.01521857, -0.0279128 , ...,  0.02822973,\n",
              "          0.00548543, -0.00014811],\n",
              "        [ 0.01891935, -0.02109549, -0.02800494, ...,  0.01564752,\n",
              "         -0.00385373, -0.00310911]], dtype=float32),\n",
              " 'answers': array([[-0.02031539, -0.00073444, -0.02261897, ..., -0.00154823,\n",
              "         -0.02488664,  0.0226727 ],\n",
              "        [-0.0212907 ,  0.00392494, -0.03102093, ...,  0.00871337,\n",
              "         -0.03402397,  0.03308565],\n",
              "        [ 0.0137716 , -0.03382061, -0.02171203, ..., -0.01962037,\n",
              "         -0.01894022,  0.00477085],\n",
              "        ...,\n",
              "        [-0.02127202,  0.00546135,  0.00421075, ..., -0.01945656,\n",
              "         -0.05885971, -0.0070035 ],\n",
              "        [-0.01819178,  0.00447033,  0.01567241, ..., -0.00208407,\n",
              "         -0.0152221 ,  0.03217338],\n",
              "        [-0.01055769, -0.00337146, -0.01961509, ...,  0.00485206,\n",
              "         -0.01575001,  0.0219987 ]], dtype=float32)}"
            ]
          },
          "metadata": {},
          "execution_count": 10
        }
      ]
    },
    {
      "cell_type": "code",
      "source": [
        "deduplicated_medmcqa_dev = pd.read_csv(\"../deduplicated_data/QAs/MedMCQA/medmcqa_dev_fulltext_deduplicated.csv\")"
      ],
      "metadata": {
        "id": "UJYNNyry0eyU"
      },
      "execution_count": null,
      "outputs": []
    },
    {
      "cell_type": "code",
      "source": [
        "calculate_and_save_embeddings(deduplicated_medmcqa_dev, \"medmcqa_dev\", save_dir=\"../deduplicated_embeddings/QAs\", batch_size=128)"
      ],
      "metadata": {
        "colab": {
          "base_uri": "https://localhost:8080/"
        },
        "id": "WIumsfDuNcyg",
        "outputId": "c063f40e-1b01-4e54-f066-abd1f1fa28cc"
      },
      "execution_count": null,
      "outputs": [
        {
          "output_type": "stream",
          "name": "stdout",
          "text": [
            "Generating question embeddings for medmcqa_dev...\n"
          ]
        },
        {
          "output_type": "stream",
          "name": "stderr",
          "text": [
            "Question Embeddings: 100%|██████████| 31/31 [00:21<00:00,  1.43it/s]\n"
          ]
        },
        {
          "output_type": "stream",
          "name": "stdout",
          "text": [
            "Saved question embeddings for medmcqa_dev.\n",
            "Generating answer embeddings for medmcqa_dev...\n"
          ]
        },
        {
          "output_type": "stream",
          "name": "stderr",
          "text": [
            "Answer Embeddings: 100%|██████████| 31/31 [00:25<00:00,  1.24it/s]"
          ]
        },
        {
          "output_type": "stream",
          "name": "stdout",
          "text": [
            "Saved answer embeddings for medmcqa_dev.\n"
          ]
        },
        {
          "output_type": "stream",
          "name": "stderr",
          "text": [
            "\n"
          ]
        },
        {
          "output_type": "execute_result",
          "data": {
            "text/plain": [
              "{'questions': array([[-2.56071370e-02,  1.91394035e-02,  1.27475783e-02, ...,\n",
              "          6.34452626e-02, -1.70708690e-02,  2.03857757e-02],\n",
              "        [ 5.93451085e-03,  5.27069345e-02, -1.12807238e-02, ...,\n",
              "         -1.53421902e-03, -4.03792597e-03,  5.80840185e-03],\n",
              "        [-2.25096289e-02, -2.07897816e-02,  9.05894209e-03, ...,\n",
              "          1.06330588e-02, -2.68628467e-02,  1.02449032e-02],\n",
              "        ...,\n",
              "        [ 1.20566385e-02,  4.27294001e-02, -3.73669937e-02, ...,\n",
              "          5.58599308e-02, -4.34714146e-02, -1.61970966e-02],\n",
              "        [ 3.84220891e-02,  1.79261365e-03, -3.20613049e-02, ...,\n",
              "         -9.69613343e-03, -1.58840474e-02,  1.38213523e-02],\n",
              "        [-3.43796909e-02, -3.55549928e-05, -1.28169907e-02, ...,\n",
              "          2.41738465e-02,  6.28327113e-03,  3.56595479e-02]], dtype=float32),\n",
              " 'answers': array([[-0.00665213,  0.00178398,  0.01581716, ...,  0.02604667,\n",
              "         -0.04338642,  0.01888935],\n",
              "        [-0.02049993,  0.01377321,  0.01967613, ...,  0.04060692,\n",
              "          0.00947692,  0.00287809],\n",
              "        [ 0.00247764, -0.00852016,  0.02382188, ...,  0.02975032,\n",
              "         -0.0271002 ,  0.0566129 ],\n",
              "        ...,\n",
              "        [ 0.0227521 ,  0.03958008, -0.00932474, ...,  0.00665845,\n",
              "         -0.02640698,  0.01167822],\n",
              "        [ 0.0270356 , -0.01927362, -0.03078657, ...,  0.00352575,\n",
              "         -0.02881567,  0.04190324],\n",
              "        [ 0.01645208, -0.02611815, -0.0287056 , ...,  0.04329373,\n",
              "         -0.03088538,  0.05612089]], dtype=float32)}"
            ]
          },
          "metadata": {},
          "execution_count": 23
        }
      ]
    },
    {
      "cell_type": "code",
      "source": [
        "deduplicated_medmcqa_train = pd.read_csv(\"../deduplicated_data/QAs/MedMCQA/medmcqa_train_fulltext_deduplicated.csv\")"
      ],
      "metadata": {
        "id": "fvBvf5DBOLJ9"
      },
      "execution_count": null,
      "outputs": []
    },
    {
      "cell_type": "code",
      "source": [
        "calculate_and_save_embeddings(deduplicated_medmcqa_train, \"medmcqa_train\", save_dir=\"../deduplicated_embeddings/QAs\", batch_size=128)"
      ],
      "metadata": {
        "id": "-ss5UQ9lOOtS"
      },
      "execution_count": null,
      "outputs": []
    }
  ]
}