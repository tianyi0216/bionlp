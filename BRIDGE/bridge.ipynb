{
 "cells": [
  {
   "cell_type": "code",
   "execution_count": 1,
   "metadata": {},
   "outputs": [],
   "source": [
    "import json\n",
    "import pandas as pd"
   ]
  },
  {
   "cell_type": "code",
   "execution_count": 2,
   "metadata": {},
   "outputs": [
    {
     "name": "stdout",
     "output_type": "stream",
     "text": [
      "[{'task': 'ADE-Drug dosage', 'language': 'en', 'task type': 'Event Extraction', 'id': 17, 'split': 'train', 'instruction': 'Given the clinical text, identify all the drugs and their corresponding dosage information mentioned in the text.\\nReturn your answer in the following format. DO NOT GIVE ANY EXPLANATION:\\ndrug: ..., dosage: ...;\\n...\\ndrug: ..., dosage: ...;', 'input': 'Lethal anuria complicating high dose ifosfamide chemotherapy in a breast cancer patient with an impaired renal function.', 'output': 'drug: ifosfamide, dosage: high dose;'}, {'task': 'ADE-Drug dosage', 'language': 'en', 'task type': 'Event Extraction', 'id': 13, 'split': 'train', 'instruction': 'Given the clinical text, identify all the drugs and their corresponding dosage information mentioned in the text.\\nReturn your answer in the following format. DO NOT GIVE ANY EXPLANATION:\\ndrug: ..., dosage: ...;\\n...\\ndrug: ..., dosage: ...;', 'input': 'We report on 7 patients (2 women, 5 men) with chronic renal failure, who developed under a high dosage of the new diuretic muzolimine (range 240 to 1440 mg per day) fatal neuromyeloencephalopathy.', 'output': 'drug: muzolimine, dosage: high dosage;\\ndrug: muzolimine, dosage: 240 to 1440 mg per day;'}, {'task': 'ADE-Drug dosage', 'language': 'en', 'task type': 'Event Extraction', 'id': 7, 'split': 'train', 'instruction': 'Given the clinical text, identify all the drugs and their corresponding dosage information mentioned in the text.\\nReturn your answer in the following format. DO NOT GIVE ANY EXPLANATION:\\ndrug: ..., dosage: ...;\\n...\\ndrug: ..., dosage: ...;', 'input': 'This entity is probably related to a combination of high doses of corticosteroids, vecuronium administration and metabolic abnormalities associated with respiratory failure.', 'output': 'drug: vecuronium, dosage: high doses;'}, {'task': 'ADE-Drug dosage', 'language': 'en', 'task type': 'Event Extraction', 'id': 14, 'split': 'train', 'instruction': 'Given the clinical text, identify all the drugs and their corresponding dosage information mentioned in the text.\\nReturn your answer in the following format. DO NOT GIVE ANY EXPLANATION:\\ndrug: ..., dosage: ...;\\n...\\ndrug: ..., dosage: ...;', 'input': 'Bulbar and pseudobulbar palsy complicating therapy with high-dose cytosine arabinoside in children with leukemia.', 'output': 'drug: cytosine arabinoside, dosage: high-dose;'}, {'task': 'ADE-Drug dosage', 'language': 'en', 'task type': 'Event Extraction', 'id': 8, 'split': 'train', 'instruction': 'Given the clinical text, identify all the drugs and their corresponding dosage information mentioned in the text.\\nReturn your answer in the following format. DO NOT GIVE ANY EXPLANATION:\\ndrug: ..., dosage: ...;\\n...\\ndrug: ..., dosage: ...;', 'input': 'We describe the development of cutaneous scleroderma in 3 patients coincident with the use of bleomycin in low cumulative doses of less than 100 U.', 'output': 'drug: bleomycin, dosage: 100 U;'}]\n"
     ]
    }
   ],
   "source": [
    "with open(\"example/ADE-Drug dosage.example.json\", \"r\") as f:\n",
    "    data = json.load(f)\n",
    "\n",
    "print(data)"
   ]
  },
  {
   "cell_type": "code",
   "execution_count": 3,
   "metadata": {},
   "outputs": [
    {
     "data": {
      "text/plain": [
       "[{'task': 'ADE-Drug dosage',\n",
       "  'language': 'en',\n",
       "  'task type': 'Event Extraction',\n",
       "  'id': 17,\n",
       "  'split': 'train',\n",
       "  'instruction': 'Given the clinical text, identify all the drugs and their corresponding dosage information mentioned in the text.\\nReturn your answer in the following format. DO NOT GIVE ANY EXPLANATION:\\ndrug: ..., dosage: ...;\\n...\\ndrug: ..., dosage: ...;',\n",
       "  'input': 'Lethal anuria complicating high dose ifosfamide chemotherapy in a breast cancer patient with an impaired renal function.',\n",
       "  'output': 'drug: ifosfamide, dosage: high dose;'},\n",
       " {'task': 'ADE-Drug dosage',\n",
       "  'language': 'en',\n",
       "  'task type': 'Event Extraction',\n",
       "  'id': 13,\n",
       "  'split': 'train',\n",
       "  'instruction': 'Given the clinical text, identify all the drugs and their corresponding dosage information mentioned in the text.\\nReturn your answer in the following format. DO NOT GIVE ANY EXPLANATION:\\ndrug: ..., dosage: ...;\\n...\\ndrug: ..., dosage: ...;',\n",
       "  'input': 'We report on 7 patients (2 women, 5 men) with chronic renal failure, who developed under a high dosage of the new diuretic muzolimine (range 240 to 1440 mg per day) fatal neuromyeloencephalopathy.',\n",
       "  'output': 'drug: muzolimine, dosage: high dosage;\\ndrug: muzolimine, dosage: 240 to 1440 mg per day;'},\n",
       " {'task': 'ADE-Drug dosage',\n",
       "  'language': 'en',\n",
       "  'task type': 'Event Extraction',\n",
       "  'id': 7,\n",
       "  'split': 'train',\n",
       "  'instruction': 'Given the clinical text, identify all the drugs and their corresponding dosage information mentioned in the text.\\nReturn your answer in the following format. DO NOT GIVE ANY EXPLANATION:\\ndrug: ..., dosage: ...;\\n...\\ndrug: ..., dosage: ...;',\n",
       "  'input': 'This entity is probably related to a combination of high doses of corticosteroids, vecuronium administration and metabolic abnormalities associated with respiratory failure.',\n",
       "  'output': 'drug: vecuronium, dosage: high doses;'},\n",
       " {'task': 'ADE-Drug dosage',\n",
       "  'language': 'en',\n",
       "  'task type': 'Event Extraction',\n",
       "  'id': 14,\n",
       "  'split': 'train',\n",
       "  'instruction': 'Given the clinical text, identify all the drugs and their corresponding dosage information mentioned in the text.\\nReturn your answer in the following format. DO NOT GIVE ANY EXPLANATION:\\ndrug: ..., dosage: ...;\\n...\\ndrug: ..., dosage: ...;',\n",
       "  'input': 'Bulbar and pseudobulbar palsy complicating therapy with high-dose cytosine arabinoside in children with leukemia.',\n",
       "  'output': 'drug: cytosine arabinoside, dosage: high-dose;'},\n",
       " {'task': 'ADE-Drug dosage',\n",
       "  'language': 'en',\n",
       "  'task type': 'Event Extraction',\n",
       "  'id': 8,\n",
       "  'split': 'train',\n",
       "  'instruction': 'Given the clinical text, identify all the drugs and their corresponding dosage information mentioned in the text.\\nReturn your answer in the following format. DO NOT GIVE ANY EXPLANATION:\\ndrug: ..., dosage: ...;\\n...\\ndrug: ..., dosage: ...;',\n",
       "  'input': 'We describe the development of cutaneous scleroderma in 3 patients coincident with the use of bleomycin in low cumulative doses of less than 100 U.',\n",
       "  'output': 'drug: bleomycin, dosage: 100 U;'}]"
      ]
     },
     "execution_count": 3,
     "metadata": {},
     "output_type": "execute_result"
    }
   ],
   "source": [
    "df = pd.Da"
   ]
  },
  {
   "cell_type": "code",
   "execution_count": null,
   "metadata": {},
   "outputs": [],
   "source": []
  }
 ],
 "metadata": {
  "kernelspec": {
   "display_name": "base",
   "language": "python",
   "name": "python3"
  },
  "language_info": {
   "codemirror_mode": {
    "name": "ipython",
    "version": 3
   },
   "file_extension": ".py",
   "mimetype": "text/x-python",
   "name": "python",
   "nbconvert_exporter": "python",
   "pygments_lexer": "ipython3",
   "version": "3.11.5"
  }
 },
 "nbformat": 4,
 "nbformat_minor": 2
}
