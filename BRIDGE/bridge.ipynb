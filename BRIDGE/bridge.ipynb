{
 "cells": [
  {
   "cell_type": "code",
   "execution_count": 5,
   "metadata": {},
   "outputs": [],
   "source": [
    "import json\n",
    "import pandas as pd"
   ]
  },
  {
   "cell_type": "code",
   "execution_count": 6,
   "metadata": {},
   "outputs": [
    {
     "name": "stdout",
     "output_type": "stream",
     "text": [
      "[{'task': 'ADE-Drug dosage', 'language': 'en', 'task type': 'Event Extraction', 'id': 17, 'split': 'train', 'instruction': 'Given the clinical text, identify all the drugs and their corresponding dosage information mentioned in the text.\\nReturn your answer in the following format. DO NOT GIVE ANY EXPLANATION:\\ndrug: ..., dosage: ...;\\n...\\ndrug: ..., dosage: ...;', 'input': 'Lethal anuria complicating high dose ifosfamide chemotherapy in a breast cancer patient with an impaired renal function.', 'output': 'drug: ifosfamide, dosage: high dose;'}, {'task': 'ADE-Drug dosage', 'language': 'en', 'task type': 'Event Extraction', 'id': 13, 'split': 'train', 'instruction': 'Given the clinical text, identify all the drugs and their corresponding dosage information mentioned in the text.\\nReturn your answer in the following format. DO NOT GIVE ANY EXPLANATION:\\ndrug: ..., dosage: ...;\\n...\\ndrug: ..., dosage: ...;', 'input': 'We report on 7 patients (2 women, 5 men) with chronic renal failure, who developed under a high dosage of the new diuretic muzolimine (range 240 to 1440 mg per day) fatal neuromyeloencephalopathy.', 'output': 'drug: muzolimine, dosage: high dosage;\\ndrug: muzolimine, dosage: 240 to 1440 mg per day;'}, {'task': 'ADE-Drug dosage', 'language': 'en', 'task type': 'Event Extraction', 'id': 7, 'split': 'train', 'instruction': 'Given the clinical text, identify all the drugs and their corresponding dosage information mentioned in the text.\\nReturn your answer in the following format. DO NOT GIVE ANY EXPLANATION:\\ndrug: ..., dosage: ...;\\n...\\ndrug: ..., dosage: ...;', 'input': 'This entity is probably related to a combination of high doses of corticosteroids, vecuronium administration and metabolic abnormalities associated with respiratory failure.', 'output': 'drug: vecuronium, dosage: high doses;'}, {'task': 'ADE-Drug dosage', 'language': 'en', 'task type': 'Event Extraction', 'id': 14, 'split': 'train', 'instruction': 'Given the clinical text, identify all the drugs and their corresponding dosage information mentioned in the text.\\nReturn your answer in the following format. DO NOT GIVE ANY EXPLANATION:\\ndrug: ..., dosage: ...;\\n...\\ndrug: ..., dosage: ...;', 'input': 'Bulbar and pseudobulbar palsy complicating therapy with high-dose cytosine arabinoside in children with leukemia.', 'output': 'drug: cytosine arabinoside, dosage: high-dose;'}, {'task': 'ADE-Drug dosage', 'language': 'en', 'task type': 'Event Extraction', 'id': 8, 'split': 'train', 'instruction': 'Given the clinical text, identify all the drugs and their corresponding dosage information mentioned in the text.\\nReturn your answer in the following format. DO NOT GIVE ANY EXPLANATION:\\ndrug: ..., dosage: ...;\\n...\\ndrug: ..., dosage: ...;', 'input': 'We describe the development of cutaneous scleroderma in 3 patients coincident with the use of bleomycin in low cumulative doses of less than 100 U.', 'output': 'drug: bleomycin, dosage: 100 U;'}]\n"
     ]
    }
   ],
   "source": [
    "with open(\"example/ADE-Drug dosage.example.json\", \"r\") as f:\n",
    "    data = json.load(f)\n",
    "\n",
    "print(data)"
   ]
  },
  {
   "cell_type": "code",
   "execution_count": 7,
   "metadata": {},
   "outputs": [],
   "source": [
    "df = pd.DataFrame(data)"
   ]
  },
  {
   "cell_type": "code",
   "execution_count": 8,
   "metadata": {},
   "outputs": [
    {
     "data": {
      "text/html": [
       "<div>\n",
       "<style scoped>\n",
       "    .dataframe tbody tr th:only-of-type {\n",
       "        vertical-align: middle;\n",
       "    }\n",
       "\n",
       "    .dataframe tbody tr th {\n",
       "        vertical-align: top;\n",
       "    }\n",
       "\n",
       "    .dataframe thead th {\n",
       "        text-align: right;\n",
       "    }\n",
       "</style>\n",
       "<table border=\"1\" class=\"dataframe\">\n",
       "  <thead>\n",
       "    <tr style=\"text-align: right;\">\n",
       "      <th></th>\n",
       "      <th>task</th>\n",
       "      <th>language</th>\n",
       "      <th>task type</th>\n",
       "      <th>id</th>\n",
       "      <th>split</th>\n",
       "      <th>instruction</th>\n",
       "      <th>input</th>\n",
       "      <th>output</th>\n",
       "    </tr>\n",
       "  </thead>\n",
       "  <tbody>\n",
       "    <tr>\n",
       "      <th>0</th>\n",
       "      <td>ADE-Drug dosage</td>\n",
       "      <td>en</td>\n",
       "      <td>Event Extraction</td>\n",
       "      <td>17</td>\n",
       "      <td>train</td>\n",
       "      <td>Given the clinical text, identify all the drug...</td>\n",
       "      <td>Lethal anuria complicating high dose ifosfamid...</td>\n",
       "      <td>drug: ifosfamide, dosage: high dose;</td>\n",
       "    </tr>\n",
       "    <tr>\n",
       "      <th>1</th>\n",
       "      <td>ADE-Drug dosage</td>\n",
       "      <td>en</td>\n",
       "      <td>Event Extraction</td>\n",
       "      <td>13</td>\n",
       "      <td>train</td>\n",
       "      <td>Given the clinical text, identify all the drug...</td>\n",
       "      <td>We report on 7 patients (2 women, 5 men) with ...</td>\n",
       "      <td>drug: muzolimine, dosage: high dosage;\\ndrug: ...</td>\n",
       "    </tr>\n",
       "    <tr>\n",
       "      <th>2</th>\n",
       "      <td>ADE-Drug dosage</td>\n",
       "      <td>en</td>\n",
       "      <td>Event Extraction</td>\n",
       "      <td>7</td>\n",
       "      <td>train</td>\n",
       "      <td>Given the clinical text, identify all the drug...</td>\n",
       "      <td>This entity is probably related to a combinati...</td>\n",
       "      <td>drug: vecuronium, dosage: high doses;</td>\n",
       "    </tr>\n",
       "    <tr>\n",
       "      <th>3</th>\n",
       "      <td>ADE-Drug dosage</td>\n",
       "      <td>en</td>\n",
       "      <td>Event Extraction</td>\n",
       "      <td>14</td>\n",
       "      <td>train</td>\n",
       "      <td>Given the clinical text, identify all the drug...</td>\n",
       "      <td>Bulbar and pseudobulbar palsy complicating the...</td>\n",
       "      <td>drug: cytosine arabinoside, dosage: high-dose;</td>\n",
       "    </tr>\n",
       "    <tr>\n",
       "      <th>4</th>\n",
       "      <td>ADE-Drug dosage</td>\n",
       "      <td>en</td>\n",
       "      <td>Event Extraction</td>\n",
       "      <td>8</td>\n",
       "      <td>train</td>\n",
       "      <td>Given the clinical text, identify all the drug...</td>\n",
       "      <td>We describe the development of cutaneous scler...</td>\n",
       "      <td>drug: bleomycin, dosage: 100 U;</td>\n",
       "    </tr>\n",
       "  </tbody>\n",
       "</table>\n",
       "</div>"
      ],
      "text/plain": [
       "              task language         task type  id  split  \\\n",
       "0  ADE-Drug dosage       en  Event Extraction  17  train   \n",
       "1  ADE-Drug dosage       en  Event Extraction  13  train   \n",
       "2  ADE-Drug dosage       en  Event Extraction   7  train   \n",
       "3  ADE-Drug dosage       en  Event Extraction  14  train   \n",
       "4  ADE-Drug dosage       en  Event Extraction   8  train   \n",
       "\n",
       "                                         instruction  \\\n",
       "0  Given the clinical text, identify all the drug...   \n",
       "1  Given the clinical text, identify all the drug...   \n",
       "2  Given the clinical text, identify all the drug...   \n",
       "3  Given the clinical text, identify all the drug...   \n",
       "4  Given the clinical text, identify all the drug...   \n",
       "\n",
       "                                               input  \\\n",
       "0  Lethal anuria complicating high dose ifosfamid...   \n",
       "1  We report on 7 patients (2 women, 5 men) with ...   \n",
       "2  This entity is probably related to a combinati...   \n",
       "3  Bulbar and pseudobulbar palsy complicating the...   \n",
       "4  We describe the development of cutaneous scler...   \n",
       "\n",
       "                                              output  \n",
       "0               drug: ifosfamide, dosage: high dose;  \n",
       "1  drug: muzolimine, dosage: high dosage;\\ndrug: ...  \n",
       "2              drug: vecuronium, dosage: high doses;  \n",
       "3     drug: cytosine arabinoside, dosage: high-dose;  \n",
       "4                    drug: bleomycin, dosage: 100 U;  "
      ]
     },
     "execution_count": 8,
     "metadata": {},
     "output_type": "execute_result"
    }
   ],
   "source": [
    "# input, output, instruction column"
   ]
  },
  {
   "cell_type": "code",
   "execution_count": null,
   "metadata": {},
   "outputs": [],
   "source": []
  }
 ],
 "metadata": {
  "kernelspec": {
   "display_name": "base",
   "language": "python",
   "name": "python3"
  },
  "language_info": {
   "codemirror_mode": {
    "name": "ipython",
    "version": 3
   },
   "file_extension": ".py",
   "mimetype": "text/x-python",
   "name": "python",
   "nbconvert_exporter": "python",
   "pygments_lexer": "ipython3",
   "version": "3.11.5"
  }
 },
 "nbformat": 4,
 "nbformat_minor": 2
}
